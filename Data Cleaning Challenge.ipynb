{
 "cells": [
  {
   "cell_type": "markdown",
   "id": "1e21918f-57bb-4b48-af77-b5c535fa1277",
   "metadata": {
    "jp-MarkdownHeadingCollapsed": true
   },
   "source": [
    "# Handling Missing Values"
   ]
  },
  {
   "cell_type": "code",
   "execution_count": 2,
   "id": "36165e00-1f18-417a-940f-0651b70c5e6a",
   "metadata": {},
   "outputs": [],
   "source": [
    "import pandas as pd\n",
    "import numpy as np"
   ]
  },
  {
   "cell_type": "code",
   "execution_count": 3,
   "id": "362154ce-ebd6-413f-baf1-e331bdda7fdb",
   "metadata": {},
   "outputs": [],
   "source": [
    "nfl_data = pd.read_csv(\"NFL Play by Play 2009-2016 (v3).csv\", low_memory = False)\n",
    "sf_permits = pd.read_csv(\"Building_Permits.csv\", low_memory = False)"
   ]
  },
  {
   "cell_type": "code",
   "execution_count": 4,
   "id": "2f37be3c-b67f-4806-888b-a5f84e263c82",
   "metadata": {},
   "outputs": [],
   "source": [
    "np.random.seed(0) # Allow for reproducibility"
   ]
  },
  {
   "cell_type": "code",
   "execution_count": 5,
   "id": "8bd49d96-0dd7-4780-a0a3-06f7a91b2b64",
   "metadata": {},
   "outputs": [
    {
     "data": {
      "text/html": [
       "<div>\n",
       "<style scoped>\n",
       "    .dataframe tbody tr th:only-of-type {\n",
       "        vertical-align: middle;\n",
       "    }\n",
       "\n",
       "    .dataframe tbody tr th {\n",
       "        vertical-align: top;\n",
       "    }\n",
       "\n",
       "    .dataframe thead th {\n",
       "        text-align: right;\n",
       "    }\n",
       "</style>\n",
       "<table border=\"1\" class=\"dataframe\">\n",
       "  <thead>\n",
       "    <tr style=\"text-align: right;\">\n",
       "      <th></th>\n",
       "      <th>Date</th>\n",
       "      <th>GameID</th>\n",
       "      <th>Drive</th>\n",
       "      <th>qtr</th>\n",
       "      <th>down</th>\n",
       "      <th>time</th>\n",
       "      <th>TimeUnder</th>\n",
       "      <th>TimeSecs</th>\n",
       "      <th>PlayTimeDiff</th>\n",
       "      <th>SideofField</th>\n",
       "      <th>...</th>\n",
       "      <th>yacEPA</th>\n",
       "      <th>Home_WP_pre</th>\n",
       "      <th>Away_WP_pre</th>\n",
       "      <th>Home_WP_post</th>\n",
       "      <th>Away_WP_post</th>\n",
       "      <th>Win_Prob</th>\n",
       "      <th>WPA</th>\n",
       "      <th>airWPA</th>\n",
       "      <th>yacWPA</th>\n",
       "      <th>Season</th>\n",
       "    </tr>\n",
       "  </thead>\n",
       "  <tbody>\n",
       "    <tr>\n",
       "      <th>0</th>\n",
       "      <td>2009-09-10</td>\n",
       "      <td>2009091000</td>\n",
       "      <td>1</td>\n",
       "      <td>1</td>\n",
       "      <td>NaN</td>\n",
       "      <td>15:00</td>\n",
       "      <td>15</td>\n",
       "      <td>3600.0</td>\n",
       "      <td>0.0</td>\n",
       "      <td>TEN</td>\n",
       "      <td>...</td>\n",
       "      <td>NaN</td>\n",
       "      <td>0.485675</td>\n",
       "      <td>0.514325</td>\n",
       "      <td>0.546433</td>\n",
       "      <td>0.453567</td>\n",
       "      <td>0.485675</td>\n",
       "      <td>0.060758</td>\n",
       "      <td>NaN</td>\n",
       "      <td>NaN</td>\n",
       "      <td>2009</td>\n",
       "    </tr>\n",
       "    <tr>\n",
       "      <th>1</th>\n",
       "      <td>2009-09-10</td>\n",
       "      <td>2009091000</td>\n",
       "      <td>1</td>\n",
       "      <td>1</td>\n",
       "      <td>1.0</td>\n",
       "      <td>14:53</td>\n",
       "      <td>15</td>\n",
       "      <td>3593.0</td>\n",
       "      <td>7.0</td>\n",
       "      <td>PIT</td>\n",
       "      <td>...</td>\n",
       "      <td>1.146076</td>\n",
       "      <td>0.546433</td>\n",
       "      <td>0.453567</td>\n",
       "      <td>0.551088</td>\n",
       "      <td>0.448912</td>\n",
       "      <td>0.546433</td>\n",
       "      <td>0.004655</td>\n",
       "      <td>-0.032244</td>\n",
       "      <td>0.036899</td>\n",
       "      <td>2009</td>\n",
       "    </tr>\n",
       "    <tr>\n",
       "      <th>2</th>\n",
       "      <td>2009-09-10</td>\n",
       "      <td>2009091000</td>\n",
       "      <td>1</td>\n",
       "      <td>1</td>\n",
       "      <td>2.0</td>\n",
       "      <td>14:16</td>\n",
       "      <td>15</td>\n",
       "      <td>3556.0</td>\n",
       "      <td>37.0</td>\n",
       "      <td>PIT</td>\n",
       "      <td>...</td>\n",
       "      <td>NaN</td>\n",
       "      <td>0.551088</td>\n",
       "      <td>0.448912</td>\n",
       "      <td>0.510793</td>\n",
       "      <td>0.489207</td>\n",
       "      <td>0.551088</td>\n",
       "      <td>-0.040295</td>\n",
       "      <td>NaN</td>\n",
       "      <td>NaN</td>\n",
       "      <td>2009</td>\n",
       "    </tr>\n",
       "    <tr>\n",
       "      <th>3</th>\n",
       "      <td>2009-09-10</td>\n",
       "      <td>2009091000</td>\n",
       "      <td>1</td>\n",
       "      <td>1</td>\n",
       "      <td>3.0</td>\n",
       "      <td>13:35</td>\n",
       "      <td>14</td>\n",
       "      <td>3515.0</td>\n",
       "      <td>41.0</td>\n",
       "      <td>PIT</td>\n",
       "      <td>...</td>\n",
       "      <td>-5.031425</td>\n",
       "      <td>0.510793</td>\n",
       "      <td>0.489207</td>\n",
       "      <td>0.461217</td>\n",
       "      <td>0.538783</td>\n",
       "      <td>0.510793</td>\n",
       "      <td>-0.049576</td>\n",
       "      <td>0.106663</td>\n",
       "      <td>-0.156239</td>\n",
       "      <td>2009</td>\n",
       "    </tr>\n",
       "    <tr>\n",
       "      <th>4</th>\n",
       "      <td>2009-09-10</td>\n",
       "      <td>2009091000</td>\n",
       "      <td>1</td>\n",
       "      <td>1</td>\n",
       "      <td>4.0</td>\n",
       "      <td>13:27</td>\n",
       "      <td>14</td>\n",
       "      <td>3507.0</td>\n",
       "      <td>8.0</td>\n",
       "      <td>PIT</td>\n",
       "      <td>...</td>\n",
       "      <td>NaN</td>\n",
       "      <td>0.461217</td>\n",
       "      <td>0.538783</td>\n",
       "      <td>0.558929</td>\n",
       "      <td>0.441071</td>\n",
       "      <td>0.461217</td>\n",
       "      <td>0.097712</td>\n",
       "      <td>NaN</td>\n",
       "      <td>NaN</td>\n",
       "      <td>2009</td>\n",
       "    </tr>\n",
       "  </tbody>\n",
       "</table>\n",
       "<p>5 rows × 102 columns</p>\n",
       "</div>"
      ],
      "text/plain": [
       "         Date      GameID  Drive  qtr  down   time  TimeUnder  TimeSecs  \\\n",
       "0  2009-09-10  2009091000      1    1   NaN  15:00         15    3600.0   \n",
       "1  2009-09-10  2009091000      1    1   1.0  14:53         15    3593.0   \n",
       "2  2009-09-10  2009091000      1    1   2.0  14:16         15    3556.0   \n",
       "3  2009-09-10  2009091000      1    1   3.0  13:35         14    3515.0   \n",
       "4  2009-09-10  2009091000      1    1   4.0  13:27         14    3507.0   \n",
       "\n",
       "   PlayTimeDiff SideofField  ...    yacEPA  Home_WP_pre  Away_WP_pre  \\\n",
       "0           0.0         TEN  ...       NaN     0.485675     0.514325   \n",
       "1           7.0         PIT  ...  1.146076     0.546433     0.453567   \n",
       "2          37.0         PIT  ...       NaN     0.551088     0.448912   \n",
       "3          41.0         PIT  ... -5.031425     0.510793     0.489207   \n",
       "4           8.0         PIT  ...       NaN     0.461217     0.538783   \n",
       "\n",
       "   Home_WP_post  Away_WP_post  Win_Prob       WPA    airWPA    yacWPA  Season  \n",
       "0      0.546433      0.453567  0.485675  0.060758       NaN       NaN    2009  \n",
       "1      0.551088      0.448912  0.546433  0.004655 -0.032244  0.036899    2009  \n",
       "2      0.510793      0.489207  0.551088 -0.040295       NaN       NaN    2009  \n",
       "3      0.461217      0.538783  0.510793 -0.049576  0.106663 -0.156239    2009  \n",
       "4      0.558929      0.441071  0.461217  0.097712       NaN       NaN    2009  \n",
       "\n",
       "[5 rows x 102 columns]"
      ]
     },
     "execution_count": 5,
     "metadata": {},
     "output_type": "execute_result"
    }
   ],
   "source": [
    "nfl_data.head()"
   ]
  },
  {
   "cell_type": "code",
   "execution_count": 6,
   "id": "3170939f-eec3-4d2d-9e84-e7e527b4a885",
   "metadata": {},
   "outputs": [
    {
     "data": {
      "text/html": [
       "<div>\n",
       "<style scoped>\n",
       "    .dataframe tbody tr th:only-of-type {\n",
       "        vertical-align: middle;\n",
       "    }\n",
       "\n",
       "    .dataframe tbody tr th {\n",
       "        vertical-align: top;\n",
       "    }\n",
       "\n",
       "    .dataframe thead th {\n",
       "        text-align: right;\n",
       "    }\n",
       "</style>\n",
       "<table border=\"1\" class=\"dataframe\">\n",
       "  <thead>\n",
       "    <tr style=\"text-align: right;\">\n",
       "      <th></th>\n",
       "      <th>Permit Number</th>\n",
       "      <th>Permit Type</th>\n",
       "      <th>Permit Type Definition</th>\n",
       "      <th>Permit Creation Date</th>\n",
       "      <th>Block</th>\n",
       "      <th>Lot</th>\n",
       "      <th>Street Number</th>\n",
       "      <th>Street Number Suffix</th>\n",
       "      <th>Street Name</th>\n",
       "      <th>Street Suffix</th>\n",
       "      <th>...</th>\n",
       "      <th>Existing Construction Type</th>\n",
       "      <th>Existing Construction Type Description</th>\n",
       "      <th>Proposed Construction Type</th>\n",
       "      <th>Proposed Construction Type Description</th>\n",
       "      <th>Site Permit</th>\n",
       "      <th>Supervisor District</th>\n",
       "      <th>Neighborhoods - Analysis Boundaries</th>\n",
       "      <th>Zipcode</th>\n",
       "      <th>Location</th>\n",
       "      <th>Record ID</th>\n",
       "    </tr>\n",
       "  </thead>\n",
       "  <tbody>\n",
       "    <tr>\n",
       "      <th>40553</th>\n",
       "      <td>201403039652</td>\n",
       "      <td>8</td>\n",
       "      <td>otc alterations permit</td>\n",
       "      <td>03/03/2014</td>\n",
       "      <td>3732</td>\n",
       "      <td>008</td>\n",
       "      <td>400</td>\n",
       "      <td>NaN</td>\n",
       "      <td>Clementina</td>\n",
       "      <td>St</td>\n",
       "      <td>...</td>\n",
       "      <td>NaN</td>\n",
       "      <td>NaN</td>\n",
       "      <td>1.0</td>\n",
       "      <td>constr type 1</td>\n",
       "      <td>NaN</td>\n",
       "      <td>6.0</td>\n",
       "      <td>South of Market</td>\n",
       "      <td>94103.0</td>\n",
       "      <td>(37.780460571778164, -122.40450626524974)</td>\n",
       "      <td>1334094491645</td>\n",
       "    </tr>\n",
       "    <tr>\n",
       "      <th>169731</th>\n",
       "      <td>201510159735</td>\n",
       "      <td>3</td>\n",
       "      <td>additions alterations or repairs</td>\n",
       "      <td>10/15/2015</td>\n",
       "      <td>2609</td>\n",
       "      <td>028</td>\n",
       "      <td>79</td>\n",
       "      <td>NaN</td>\n",
       "      <td>Buena Vista</td>\n",
       "      <td>Tr</td>\n",
       "      <td>...</td>\n",
       "      <td>5.0</td>\n",
       "      <td>wood frame (5)</td>\n",
       "      <td>5.0</td>\n",
       "      <td>wood frame (5)</td>\n",
       "      <td>NaN</td>\n",
       "      <td>8.0</td>\n",
       "      <td>Castro/Upper Market</td>\n",
       "      <td>94117.0</td>\n",
       "      <td>(37.76757916496494, -122.43793170417105)</td>\n",
       "      <td>1399356139170</td>\n",
       "    </tr>\n",
       "    <tr>\n",
       "      <th>19180</th>\n",
       "      <td>M409787</td>\n",
       "      <td>8</td>\n",
       "      <td>otc alterations permit</td>\n",
       "      <td>07/22/2013</td>\n",
       "      <td>4624</td>\n",
       "      <td>031</td>\n",
       "      <td>178</td>\n",
       "      <td>NaN</td>\n",
       "      <td>West Point</td>\n",
       "      <td>Rd</td>\n",
       "      <td>...</td>\n",
       "      <td>NaN</td>\n",
       "      <td>NaN</td>\n",
       "      <td>NaN</td>\n",
       "      <td>NaN</td>\n",
       "      <td>NaN</td>\n",
       "      <td>10.0</td>\n",
       "      <td>Bayview Hunters Point</td>\n",
       "      <td>94124.0</td>\n",
       "      <td>(37.73524725436046, -122.38063828309745)</td>\n",
       "      <td>1311685491725</td>\n",
       "    </tr>\n",
       "    <tr>\n",
       "      <th>68047</th>\n",
       "      <td>201411191888</td>\n",
       "      <td>8</td>\n",
       "      <td>otc alterations permit</td>\n",
       "      <td>11/19/2014</td>\n",
       "      <td>0039</td>\n",
       "      <td>109</td>\n",
       "      <td>294</td>\n",
       "      <td>NaN</td>\n",
       "      <td>Francisco</td>\n",
       "      <td>St</td>\n",
       "      <td>...</td>\n",
       "      <td>5.0</td>\n",
       "      <td>wood frame (5)</td>\n",
       "      <td>5.0</td>\n",
       "      <td>wood frame (5)</td>\n",
       "      <td>NaN</td>\n",
       "      <td>3.0</td>\n",
       "      <td>North Beach</td>\n",
       "      <td>94133.0</td>\n",
       "      <td>(37.805257822817126, -122.40998545760392)</td>\n",
       "      <td>1362881288870</td>\n",
       "    </tr>\n",
       "    <tr>\n",
       "      <th>64238</th>\n",
       "      <td>M527228</td>\n",
       "      <td>8</td>\n",
       "      <td>otc alterations permit</td>\n",
       "      <td>10/14/2014</td>\n",
       "      <td>1251</td>\n",
       "      <td>002</td>\n",
       "      <td>707</td>\n",
       "      <td>NaN</td>\n",
       "      <td>Cole</td>\n",
       "      <td>St</td>\n",
       "      <td>...</td>\n",
       "      <td>NaN</td>\n",
       "      <td>NaN</td>\n",
       "      <td>NaN</td>\n",
       "      <td>NaN</td>\n",
       "      <td>NaN</td>\n",
       "      <td>5.0</td>\n",
       "      <td>Haight Ashbury</td>\n",
       "      <td>94117.0</td>\n",
       "      <td>(37.76836885973765, -122.45074431487859)</td>\n",
       "      <td>135886493776</td>\n",
       "    </tr>\n",
       "  </tbody>\n",
       "</table>\n",
       "<p>5 rows × 43 columns</p>\n",
       "</div>"
      ],
      "text/plain": [
       "       Permit Number  Permit Type            Permit Type Definition  \\\n",
       "40553   201403039652            8            otc alterations permit   \n",
       "169731  201510159735            3  additions alterations or repairs   \n",
       "19180        M409787            8            otc alterations permit   \n",
       "68047   201411191888            8            otc alterations permit   \n",
       "64238        M527228            8            otc alterations permit   \n",
       "\n",
       "       Permit Creation Date Block  Lot  Street Number Street Number Suffix  \\\n",
       "40553            03/03/2014  3732  008            400                  NaN   \n",
       "169731           10/15/2015  2609  028             79                  NaN   \n",
       "19180            07/22/2013  4624  031            178                  NaN   \n",
       "68047            11/19/2014  0039  109            294                  NaN   \n",
       "64238            10/14/2014  1251  002            707                  NaN   \n",
       "\n",
       "        Street Name Street Suffix  ...  Existing Construction Type  \\\n",
       "40553    Clementina            St  ...                         NaN   \n",
       "169731  Buena Vista            Tr  ...                         5.0   \n",
       "19180    West Point            Rd  ...                         NaN   \n",
       "68047     Francisco            St  ...                         5.0   \n",
       "64238          Cole            St  ...                         NaN   \n",
       "\n",
       "       Existing Construction Type Description Proposed Construction Type  \\\n",
       "40553                                     NaN                        1.0   \n",
       "169731                         wood frame (5)                        5.0   \n",
       "19180                                     NaN                        NaN   \n",
       "68047                          wood frame (5)                        5.0   \n",
       "64238                                     NaN                        NaN   \n",
       "\n",
       "       Proposed Construction Type Description Site Permit Supervisor District  \\\n",
       "40553                           constr type 1         NaN                 6.0   \n",
       "169731                         wood frame (5)         NaN                 8.0   \n",
       "19180                                     NaN         NaN                10.0   \n",
       "68047                          wood frame (5)         NaN                 3.0   \n",
       "64238                                     NaN         NaN                 5.0   \n",
       "\n",
       "       Neighborhoods - Analysis Boundaries  Zipcode  \\\n",
       "40553                      South of Market  94103.0   \n",
       "169731                 Castro/Upper Market  94117.0   \n",
       "19180                Bayview Hunters Point  94124.0   \n",
       "68047                          North Beach  94133.0   \n",
       "64238                       Haight Ashbury  94117.0   \n",
       "\n",
       "                                         Location      Record ID  \n",
       "40553   (37.780460571778164, -122.40450626524974)  1334094491645  \n",
       "169731   (37.76757916496494, -122.43793170417105)  1399356139170  \n",
       "19180    (37.73524725436046, -122.38063828309745)  1311685491725  \n",
       "68047   (37.805257822817126, -122.40998545760392)  1362881288870  \n",
       "64238    (37.76836885973765, -122.45074431487859)   135886493776  \n",
       "\n",
       "[5 rows x 43 columns]"
      ]
     },
     "execution_count": 6,
     "metadata": {},
     "output_type": "execute_result"
    }
   ],
   "source": [
    "sf_permits.sample(5)"
   ]
  },
  {
   "cell_type": "code",
   "execution_count": 7,
   "id": "2f3c0a6d-d5d0-41bf-aacb-5333d0b631be",
   "metadata": {},
   "outputs": [
    {
     "data": {
      "text/plain": [
       "Date                0\n",
       "GameID              0\n",
       "Drive               0\n",
       "qtr                 0\n",
       "down            54218\n",
       "time              188\n",
       "TimeUnder           0\n",
       "TimeSecs          188\n",
       "PlayTimeDiff      374\n",
       "SideofField       450\n",
       "dtype: int64"
      ]
     },
     "execution_count": 7,
     "metadata": {},
     "output_type": "execute_result"
    }
   ],
   "source": [
    "#Get total number of missing cells for first 10 columns for nfl_data\n",
    "\n",
    "missing_values_count  = nfl_data.isnull().sum()\n",
    "\n",
    "missing_values_count[0:10]"
   ]
  },
  {
   "cell_type": "code",
   "execution_count": 8,
   "id": "54f695e4-a6bd-4418-9782-6eb7f625f9a0",
   "metadata": {},
   "outputs": [
    {
     "data": {
      "text/plain": [
       "27.652267428200588"
      ]
     },
     "execution_count": 8,
     "metadata": {},
     "output_type": "execute_result"
    }
   ],
   "source": [
    "# Find the percentage of cells without a value for nfl_data\n",
    "\n",
    "total_cells = np.product(nfl_data.shape)\n",
    "total_missing = missing_values_count.sum()\n",
    "\n",
    "(total_missing/total_cells) * 100"
   ]
  },
  {
   "cell_type": "code",
   "execution_count": 9,
   "id": "8b5e26eb-8a5f-4e09-9366-bf47b15985fa",
   "metadata": {},
   "outputs": [
    {
     "data": {
      "text/plain": [
       "Permit Number                  0\n",
       "Permit Type                    0\n",
       "Permit Type Definition         0\n",
       "Permit Creation Date           0\n",
       "Block                          0\n",
       "Lot                            0\n",
       "Street Number                  0\n",
       "Street Number Suffix      196684\n",
       "Street Name                    0\n",
       "Street Suffix               2768\n",
       "dtype: int64"
      ]
     },
     "execution_count": 9,
     "metadata": {},
     "output_type": "execute_result"
    }
   ],
   "source": [
    "# Find the percentage of cells without a value for sf_permits\n",
    "\n",
    "missing_values_count = sf_permits.isnull().sum()\n",
    "\n",
    "missing_values_count[0:10]"
   ]
  },
  {
   "cell_type": "code",
   "execution_count": 10,
   "id": "5400dd8a-dfe4-4a96-8fcc-54fd51900028",
   "metadata": {},
   "outputs": [
    {
     "data": {
      "text/plain": [
       "26.26002315058403"
      ]
     },
     "execution_count": 10,
     "metadata": {},
     "output_type": "execute_result"
    }
   ],
   "source": [
    "# Find the percentage of cells without a value for sf_permits\n",
    "\n",
    "total_missing = missing_values_count.sum()\n",
    "total_cells = np.product(sf_permits.shape)\n",
    "\n",
    "(total_missing/total_cells) * 100"
   ]
  },
  {
   "cell_type": "code",
   "execution_count": 11,
   "id": "19fcb4ab-02dc-4049-9e20-c27611c68332",
   "metadata": {},
   "outputs": [],
   "source": [
    "# Following line removes all rows of data due to at least 1 missing value per row\n",
    "# nfl_data.dropna()"
   ]
  },
  {
   "cell_type": "code",
   "execution_count": 12,
   "id": "53cc7eae-60a9-47cc-97ac-4806395e5fc6",
   "metadata": {},
   "outputs": [
    {
     "data": {
      "text/html": [
       "<div>\n",
       "<style scoped>\n",
       "    .dataframe tbody tr th:only-of-type {\n",
       "        vertical-align: middle;\n",
       "    }\n",
       "\n",
       "    .dataframe tbody tr th {\n",
       "        vertical-align: top;\n",
       "    }\n",
       "\n",
       "    .dataframe thead th {\n",
       "        text-align: right;\n",
       "    }\n",
       "</style>\n",
       "<table border=\"1\" class=\"dataframe\">\n",
       "  <thead>\n",
       "    <tr style=\"text-align: right;\">\n",
       "      <th></th>\n",
       "      <th>Date</th>\n",
       "      <th>GameID</th>\n",
       "      <th>Drive</th>\n",
       "      <th>qtr</th>\n",
       "      <th>down</th>\n",
       "      <th>time</th>\n",
       "      <th>TimeUnder</th>\n",
       "      <th>TimeSecs</th>\n",
       "      <th>PlayTimeDiff</th>\n",
       "      <th>SideofField</th>\n",
       "      <th>...</th>\n",
       "      <th>yacEPA</th>\n",
       "      <th>Home_WP_pre</th>\n",
       "      <th>Away_WP_pre</th>\n",
       "      <th>Home_WP_post</th>\n",
       "      <th>Away_WP_post</th>\n",
       "      <th>Win_Prob</th>\n",
       "      <th>WPA</th>\n",
       "      <th>airWPA</th>\n",
       "      <th>yacWPA</th>\n",
       "      <th>Season</th>\n",
       "    </tr>\n",
       "  </thead>\n",
       "  <tbody>\n",
       "    <tr>\n",
       "      <th>0</th>\n",
       "      <td>2009-09-10</td>\n",
       "      <td>2009091000</td>\n",
       "      <td>1</td>\n",
       "      <td>1</td>\n",
       "      <td>1.0</td>\n",
       "      <td>15:00</td>\n",
       "      <td>15</td>\n",
       "      <td>3600.0</td>\n",
       "      <td>0.0</td>\n",
       "      <td>TEN</td>\n",
       "      <td>...</td>\n",
       "      <td>1.146076</td>\n",
       "      <td>0.485675</td>\n",
       "      <td>0.514325</td>\n",
       "      <td>0.546433</td>\n",
       "      <td>0.453567</td>\n",
       "      <td>0.485675</td>\n",
       "      <td>0.060758</td>\n",
       "      <td>-0.032244</td>\n",
       "      <td>0.036899</td>\n",
       "      <td>2009</td>\n",
       "    </tr>\n",
       "    <tr>\n",
       "      <th>1</th>\n",
       "      <td>2009-09-10</td>\n",
       "      <td>2009091000</td>\n",
       "      <td>1</td>\n",
       "      <td>1</td>\n",
       "      <td>1.0</td>\n",
       "      <td>14:53</td>\n",
       "      <td>15</td>\n",
       "      <td>3593.0</td>\n",
       "      <td>7.0</td>\n",
       "      <td>PIT</td>\n",
       "      <td>...</td>\n",
       "      <td>1.146076</td>\n",
       "      <td>0.546433</td>\n",
       "      <td>0.453567</td>\n",
       "      <td>0.551088</td>\n",
       "      <td>0.448912</td>\n",
       "      <td>0.546433</td>\n",
       "      <td>0.004655</td>\n",
       "      <td>-0.032244</td>\n",
       "      <td>0.036899</td>\n",
       "      <td>2009</td>\n",
       "    </tr>\n",
       "    <tr>\n",
       "      <th>2</th>\n",
       "      <td>2009-09-10</td>\n",
       "      <td>2009091000</td>\n",
       "      <td>1</td>\n",
       "      <td>1</td>\n",
       "      <td>2.0</td>\n",
       "      <td>14:16</td>\n",
       "      <td>15</td>\n",
       "      <td>3556.0</td>\n",
       "      <td>37.0</td>\n",
       "      <td>PIT</td>\n",
       "      <td>...</td>\n",
       "      <td>-5.031425</td>\n",
       "      <td>0.551088</td>\n",
       "      <td>0.448912</td>\n",
       "      <td>0.510793</td>\n",
       "      <td>0.489207</td>\n",
       "      <td>0.551088</td>\n",
       "      <td>-0.040295</td>\n",
       "      <td>0.106663</td>\n",
       "      <td>-0.156239</td>\n",
       "      <td>2009</td>\n",
       "    </tr>\n",
       "    <tr>\n",
       "      <th>3</th>\n",
       "      <td>2009-09-10</td>\n",
       "      <td>2009091000</td>\n",
       "      <td>1</td>\n",
       "      <td>1</td>\n",
       "      <td>3.0</td>\n",
       "      <td>13:35</td>\n",
       "      <td>14</td>\n",
       "      <td>3515.0</td>\n",
       "      <td>41.0</td>\n",
       "      <td>PIT</td>\n",
       "      <td>...</td>\n",
       "      <td>-5.031425</td>\n",
       "      <td>0.510793</td>\n",
       "      <td>0.489207</td>\n",
       "      <td>0.461217</td>\n",
       "      <td>0.538783</td>\n",
       "      <td>0.510793</td>\n",
       "      <td>-0.049576</td>\n",
       "      <td>0.106663</td>\n",
       "      <td>-0.156239</td>\n",
       "      <td>2009</td>\n",
       "    </tr>\n",
       "    <tr>\n",
       "      <th>4</th>\n",
       "      <td>2009-09-10</td>\n",
       "      <td>2009091000</td>\n",
       "      <td>1</td>\n",
       "      <td>1</td>\n",
       "      <td>4.0</td>\n",
       "      <td>13:27</td>\n",
       "      <td>14</td>\n",
       "      <td>3507.0</td>\n",
       "      <td>8.0</td>\n",
       "      <td>PIT</td>\n",
       "      <td>...</td>\n",
       "      <td>0.163935</td>\n",
       "      <td>0.461217</td>\n",
       "      <td>0.538783</td>\n",
       "      <td>0.558929</td>\n",
       "      <td>0.441071</td>\n",
       "      <td>0.461217</td>\n",
       "      <td>0.097712</td>\n",
       "      <td>-0.010456</td>\n",
       "      <td>0.006029</td>\n",
       "      <td>2009</td>\n",
       "    </tr>\n",
       "    <tr>\n",
       "      <th>...</th>\n",
       "      <td>...</td>\n",
       "      <td>...</td>\n",
       "      <td>...</td>\n",
       "      <td>...</td>\n",
       "      <td>...</td>\n",
       "      <td>...</td>\n",
       "      <td>...</td>\n",
       "      <td>...</td>\n",
       "      <td>...</td>\n",
       "      <td>...</td>\n",
       "      <td>...</td>\n",
       "      <td>...</td>\n",
       "      <td>...</td>\n",
       "      <td>...</td>\n",
       "      <td>...</td>\n",
       "      <td>...</td>\n",
       "      <td>...</td>\n",
       "      <td>...</td>\n",
       "      <td>...</td>\n",
       "      <td>...</td>\n",
       "      <td>...</td>\n",
       "    </tr>\n",
       "    <tr>\n",
       "      <th>362442</th>\n",
       "      <td>2017-01-01</td>\n",
       "      <td>2017010102</td>\n",
       "      <td>20</td>\n",
       "      <td>4</td>\n",
       "      <td>1.0</td>\n",
       "      <td>00:22</td>\n",
       "      <td>1</td>\n",
       "      <td>22.0</td>\n",
       "      <td>6.0</td>\n",
       "      <td>GB</td>\n",
       "      <td>...</td>\n",
       "      <td>0.000000</td>\n",
       "      <td>0.051901</td>\n",
       "      <td>0.948099</td>\n",
       "      <td>0.093435</td>\n",
       "      <td>0.906565</td>\n",
       "      <td>0.051901</td>\n",
       "      <td>0.041534</td>\n",
       "      <td>0.041534</td>\n",
       "      <td>0.000000</td>\n",
       "      <td>2016</td>\n",
       "    </tr>\n",
       "    <tr>\n",
       "      <th>362443</th>\n",
       "      <td>2017-01-01</td>\n",
       "      <td>2017010102</td>\n",
       "      <td>20</td>\n",
       "      <td>4</td>\n",
       "      <td>1.0</td>\n",
       "      <td>00:13</td>\n",
       "      <td>1</td>\n",
       "      <td>13.0</td>\n",
       "      <td>9.0</td>\n",
       "      <td>GB</td>\n",
       "      <td>...</td>\n",
       "      <td>NaN</td>\n",
       "      <td>0.093435</td>\n",
       "      <td>0.906565</td>\n",
       "      <td>0.034069</td>\n",
       "      <td>0.965931</td>\n",
       "      <td>0.093435</td>\n",
       "      <td>-0.059366</td>\n",
       "      <td>NaN</td>\n",
       "      <td>NaN</td>\n",
       "      <td>2016</td>\n",
       "    </tr>\n",
       "    <tr>\n",
       "      <th>362444</th>\n",
       "      <td>2017-01-01</td>\n",
       "      <td>2017010102</td>\n",
       "      <td>21</td>\n",
       "      <td>4</td>\n",
       "      <td>1.0</td>\n",
       "      <td>00:13</td>\n",
       "      <td>1</td>\n",
       "      <td>13.0</td>\n",
       "      <td>0.0</td>\n",
       "      <td>DET</td>\n",
       "      <td>...</td>\n",
       "      <td>NaN</td>\n",
       "      <td>0.034069</td>\n",
       "      <td>0.965931</td>\n",
       "      <td>0.035708</td>\n",
       "      <td>0.964292</td>\n",
       "      <td>0.965931</td>\n",
       "      <td>-0.001639</td>\n",
       "      <td>NaN</td>\n",
       "      <td>NaN</td>\n",
       "      <td>2016</td>\n",
       "    </tr>\n",
       "    <tr>\n",
       "      <th>362445</th>\n",
       "      <td>2017-01-01</td>\n",
       "      <td>2017010102</td>\n",
       "      <td>21</td>\n",
       "      <td>4</td>\n",
       "      <td>1.0</td>\n",
       "      <td>00:12</td>\n",
       "      <td>1</td>\n",
       "      <td>12.0</td>\n",
       "      <td>1.0</td>\n",
       "      <td>DET</td>\n",
       "      <td>...</td>\n",
       "      <td>NaN</td>\n",
       "      <td>0.035708</td>\n",
       "      <td>0.964292</td>\n",
       "      <td>0.000000</td>\n",
       "      <td>1.000000</td>\n",
       "      <td>0.964292</td>\n",
       "      <td>0.035708</td>\n",
       "      <td>NaN</td>\n",
       "      <td>NaN</td>\n",
       "      <td>2016</td>\n",
       "    </tr>\n",
       "    <tr>\n",
       "      <th>362446</th>\n",
       "      <td>2017-01-01</td>\n",
       "      <td>2017010102</td>\n",
       "      <td>21</td>\n",
       "      <td>4</td>\n",
       "      <td>NaN</td>\n",
       "      <td>00:00</td>\n",
       "      <td>0</td>\n",
       "      <td>0.0</td>\n",
       "      <td>12.0</td>\n",
       "      <td>DET</td>\n",
       "      <td>...</td>\n",
       "      <td>NaN</td>\n",
       "      <td>0.000000</td>\n",
       "      <td>1.000000</td>\n",
       "      <td>0.000000</td>\n",
       "      <td>1.000000</td>\n",
       "      <td>0.934245</td>\n",
       "      <td>0.000000</td>\n",
       "      <td>NaN</td>\n",
       "      <td>NaN</td>\n",
       "      <td>2016</td>\n",
       "    </tr>\n",
       "  </tbody>\n",
       "</table>\n",
       "<p>362447 rows × 102 columns</p>\n",
       "</div>"
      ],
      "text/plain": [
       "              Date      GameID  Drive  qtr  down   time  TimeUnder  TimeSecs  \\\n",
       "0       2009-09-10  2009091000      1    1   1.0  15:00         15    3600.0   \n",
       "1       2009-09-10  2009091000      1    1   1.0  14:53         15    3593.0   \n",
       "2       2009-09-10  2009091000      1    1   2.0  14:16         15    3556.0   \n",
       "3       2009-09-10  2009091000      1    1   3.0  13:35         14    3515.0   \n",
       "4       2009-09-10  2009091000      1    1   4.0  13:27         14    3507.0   \n",
       "...            ...         ...    ...  ...   ...    ...        ...       ...   \n",
       "362442  2017-01-01  2017010102     20    4   1.0  00:22          1      22.0   \n",
       "362443  2017-01-01  2017010102     20    4   1.0  00:13          1      13.0   \n",
       "362444  2017-01-01  2017010102     21    4   1.0  00:13          1      13.0   \n",
       "362445  2017-01-01  2017010102     21    4   1.0  00:12          1      12.0   \n",
       "362446  2017-01-01  2017010102     21    4   NaN  00:00          0       0.0   \n",
       "\n",
       "        PlayTimeDiff SideofField  ...    yacEPA  Home_WP_pre  Away_WP_pre  \\\n",
       "0                0.0         TEN  ...  1.146076     0.485675     0.514325   \n",
       "1                7.0         PIT  ...  1.146076     0.546433     0.453567   \n",
       "2               37.0         PIT  ... -5.031425     0.551088     0.448912   \n",
       "3               41.0         PIT  ... -5.031425     0.510793     0.489207   \n",
       "4                8.0         PIT  ...  0.163935     0.461217     0.538783   \n",
       "...              ...         ...  ...       ...          ...          ...   \n",
       "362442           6.0          GB  ...  0.000000     0.051901     0.948099   \n",
       "362443           9.0          GB  ...       NaN     0.093435     0.906565   \n",
       "362444           0.0         DET  ...       NaN     0.034069     0.965931   \n",
       "362445           1.0         DET  ...       NaN     0.035708     0.964292   \n",
       "362446          12.0         DET  ...       NaN     0.000000     1.000000   \n",
       "\n",
       "        Home_WP_post  Away_WP_post  Win_Prob       WPA    airWPA    yacWPA  \\\n",
       "0           0.546433      0.453567  0.485675  0.060758 -0.032244  0.036899   \n",
       "1           0.551088      0.448912  0.546433  0.004655 -0.032244  0.036899   \n",
       "2           0.510793      0.489207  0.551088 -0.040295  0.106663 -0.156239   \n",
       "3           0.461217      0.538783  0.510793 -0.049576  0.106663 -0.156239   \n",
       "4           0.558929      0.441071  0.461217  0.097712 -0.010456  0.006029   \n",
       "...              ...           ...       ...       ...       ...       ...   \n",
       "362442      0.093435      0.906565  0.051901  0.041534  0.041534  0.000000   \n",
       "362443      0.034069      0.965931  0.093435 -0.059366       NaN       NaN   \n",
       "362444      0.035708      0.964292  0.965931 -0.001639       NaN       NaN   \n",
       "362445      0.000000      1.000000  0.964292  0.035708       NaN       NaN   \n",
       "362446      0.000000      1.000000  0.934245  0.000000       NaN       NaN   \n",
       "\n",
       "        Season  \n",
       "0         2009  \n",
       "1         2009  \n",
       "2         2009  \n",
       "3         2009  \n",
       "4         2009  \n",
       "...        ...  \n",
       "362442    2016  \n",
       "362443    2016  \n",
       "362444    2016  \n",
       "362445    2016  \n",
       "362446    2016  \n",
       "\n",
       "[362447 rows x 102 columns]"
      ]
     },
     "execution_count": 12,
     "metadata": {},
     "output_type": "execute_result"
    }
   ],
   "source": [
    "nfl_data.bfill()"
   ]
  },
  {
   "cell_type": "code",
   "execution_count": 13,
   "id": "3cc5ea7f-dcc3-49a3-bceb-e974ee4c98c6",
   "metadata": {},
   "outputs": [
    {
     "data": {
      "text/plain": [
       "6.075103232131789"
      ]
     },
     "execution_count": 13,
     "metadata": {},
     "output_type": "execute_result"
    }
   ],
   "source": [
    "# Find the percentage of cells without a value for nfl_data\n",
    "# The number of total missing NaN cells went down drastically\n",
    "total_missing = missing_values_count.sum()\n",
    "total_cells = np.product(nfl_data.shape)\n",
    "\n",
    "(total_missing/total_cells) * 100"
   ]
  },
  {
   "cell_type": "markdown",
   "id": "b7ac9283-d3ba-4f96-abe5-3b05b162430f",
   "metadata": {
    "jp-MarkdownHeadingCollapsed": true
   },
   "source": [
    "# Scale and Normalize Data"
   ]
  },
  {
   "cell_type": "code",
   "execution_count": 181,
   "id": "9d97ee13-28ed-461e-966e-ecd17ac74f0c",
   "metadata": {},
   "outputs": [],
   "source": [
    "import pandas as pd\n",
    "import numpy as np\n",
    "\n",
    "from scipy import stats\n",
    "\n",
    "!pip install mlxtend --quiet\n",
    "from mlxtend.preprocessing import minmax_scaling\n",
    "\n",
    "import seaborn as sb\n",
    "import matplotlib.pyplot as plt\n",
    "\n",
    "kickstarters_2017 = pd.read_csv(\"ks-projects-201801.csv\", encoding='UTF-8', low_memory=False)\n",
    "\n",
    "np.random.seed(0)"
   ]
  },
  {
   "cell_type": "code",
   "execution_count": 4,
   "id": "01b40b7f-fa56-4175-97b2-7286b3a83796",
   "metadata": {},
   "outputs": [
    {
     "name": "stdout",
     "output_type": "stream",
     "text": [
      "<class 'pandas.core.frame.DataFrame'>\n",
      "RangeIndex: 378661 entries, 0 to 378660\n",
      "Data columns (total 15 columns):\n",
      " #   Column            Non-Null Count   Dtype  \n",
      "---  ------            --------------   -----  \n",
      " 0   ID                378661 non-null  int64  \n",
      " 1   name              378657 non-null  object \n",
      " 2   category          378661 non-null  object \n",
      " 3   main_category     378661 non-null  object \n",
      " 4   currency          378661 non-null  object \n",
      " 5   deadline          378661 non-null  object \n",
      " 6   goal              378661 non-null  float64\n",
      " 7   launched          378661 non-null  object \n",
      " 8   pledged           378661 non-null  float64\n",
      " 9   state             378661 non-null  object \n",
      " 10  backers           378661 non-null  int64  \n",
      " 11  country           378661 non-null  object \n",
      " 12  usd pledged       374864 non-null  float64\n",
      " 13  usd_pledged_real  378661 non-null  float64\n",
      " 14  usd_goal_real     378661 non-null  float64\n",
      "dtypes: float64(5), int64(2), object(8)\n",
      "memory usage: 43.3+ MB\n"
     ]
    }
   ],
   "source": [
    "kickstarters_2017.info()"
   ]
  },
  {
   "cell_type": "code",
   "execution_count": 5,
   "id": "d144301d-7ff1-4c88-b8be-ded5b96ebf57",
   "metadata": {},
   "outputs": [
    {
     "data": {
      "text/html": [
       "<div>\n",
       "<style scoped>\n",
       "    .dataframe tbody tr th:only-of-type {\n",
       "        vertical-align: middle;\n",
       "    }\n",
       "\n",
       "    .dataframe tbody tr th {\n",
       "        vertical-align: top;\n",
       "    }\n",
       "\n",
       "    .dataframe thead th {\n",
       "        text-align: right;\n",
       "    }\n",
       "</style>\n",
       "<table border=\"1\" class=\"dataframe\">\n",
       "  <thead>\n",
       "    <tr style=\"text-align: right;\">\n",
       "      <th></th>\n",
       "      <th>ID</th>\n",
       "      <th>name</th>\n",
       "      <th>category</th>\n",
       "      <th>main_category</th>\n",
       "      <th>currency</th>\n",
       "      <th>deadline</th>\n",
       "      <th>goal</th>\n",
       "      <th>launched</th>\n",
       "      <th>pledged</th>\n",
       "      <th>state</th>\n",
       "      <th>backers</th>\n",
       "      <th>country</th>\n",
       "      <th>usd pledged</th>\n",
       "      <th>usd_pledged_real</th>\n",
       "      <th>usd_goal_real</th>\n",
       "    </tr>\n",
       "  </thead>\n",
       "  <tbody>\n",
       "    <tr>\n",
       "      <th>338862</th>\n",
       "      <td>796196901</td>\n",
       "      <td>10G Christmas Tree</td>\n",
       "      <td>Art</td>\n",
       "      <td>Art</td>\n",
       "      <td>USD</td>\n",
       "      <td>2010-12-26</td>\n",
       "      <td>10526.0</td>\n",
       "      <td>2010-12-08 08:44:04</td>\n",
       "      <td>0.0</td>\n",
       "      <td>failed</td>\n",
       "      <td>0</td>\n",
       "      <td>US</td>\n",
       "      <td>0.0</td>\n",
       "      <td>0.0</td>\n",
       "      <td>10526.0</td>\n",
       "    </tr>\n",
       "    <tr>\n",
       "      <th>277871</th>\n",
       "      <td>483825010</td>\n",
       "      <td>Gliff</td>\n",
       "      <td>Gaming Hardware</td>\n",
       "      <td>Games</td>\n",
       "      <td>USD</td>\n",
       "      <td>2016-03-28</td>\n",
       "      <td>10000.0</td>\n",
       "      <td>2016-01-28 04:56:18</td>\n",
       "      <td>51.0</td>\n",
       "      <td>failed</td>\n",
       "      <td>5</td>\n",
       "      <td>US</td>\n",
       "      <td>51.0</td>\n",
       "      <td>51.0</td>\n",
       "      <td>10000.0</td>\n",
       "    </tr>\n",
       "    <tr>\n",
       "      <th>47000</th>\n",
       "      <td>123916947</td>\n",
       "      <td>STUFFED Food Truck</td>\n",
       "      <td>Food Trucks</td>\n",
       "      <td>Food</td>\n",
       "      <td>USD</td>\n",
       "      <td>2015-01-06</td>\n",
       "      <td>60000.0</td>\n",
       "      <td>2014-11-07 02:24:36</td>\n",
       "      <td>25.0</td>\n",
       "      <td>failed</td>\n",
       "      <td>1</td>\n",
       "      <td>US</td>\n",
       "      <td>25.0</td>\n",
       "      <td>25.0</td>\n",
       "      <td>60000.0</td>\n",
       "    </tr>\n",
       "    <tr>\n",
       "      <th>111338</th>\n",
       "      <td>1565733636</td>\n",
       "      <td>NeoExodus Adventure: Origin of Man for Pathfin...</td>\n",
       "      <td>Tabletop Games</td>\n",
       "      <td>Games</td>\n",
       "      <td>USD</td>\n",
       "      <td>2012-05-01</td>\n",
       "      <td>500.0</td>\n",
       "      <td>2012-03-15 01:16:10</td>\n",
       "      <td>585.0</td>\n",
       "      <td>successful</td>\n",
       "      <td>17</td>\n",
       "      <td>US</td>\n",
       "      <td>585.0</td>\n",
       "      <td>585.0</td>\n",
       "      <td>500.0</td>\n",
       "    </tr>\n",
       "    <tr>\n",
       "      <th>53743</th>\n",
       "      <td>1273544891</td>\n",
       "      <td>NAPOLEON IN NEW YORK! an original TV Series</td>\n",
       "      <td>Comedy</td>\n",
       "      <td>Film &amp; Video</td>\n",
       "      <td>USD</td>\n",
       "      <td>2016-07-26</td>\n",
       "      <td>25000.0</td>\n",
       "      <td>2016-05-27 00:07:25</td>\n",
       "      <td>25.0</td>\n",
       "      <td>failed</td>\n",
       "      <td>1</td>\n",
       "      <td>US</td>\n",
       "      <td>25.0</td>\n",
       "      <td>25.0</td>\n",
       "      <td>25000.0</td>\n",
       "    </tr>\n",
       "  </tbody>\n",
       "</table>\n",
       "</div>"
      ],
      "text/plain": [
       "                ID                                               name  \\\n",
       "338862   796196901                                 10G Christmas Tree   \n",
       "277871   483825010                                              Gliff   \n",
       "47000    123916947                                 STUFFED Food Truck   \n",
       "111338  1565733636  NeoExodus Adventure: Origin of Man for Pathfin...   \n",
       "53743   1273544891        NAPOLEON IN NEW YORK! an original TV Series   \n",
       "\n",
       "               category main_category currency    deadline     goal  \\\n",
       "338862              Art           Art      USD  2010-12-26  10526.0   \n",
       "277871  Gaming Hardware         Games      USD  2016-03-28  10000.0   \n",
       "47000       Food Trucks          Food      USD  2015-01-06  60000.0   \n",
       "111338   Tabletop Games         Games      USD  2012-05-01    500.0   \n",
       "53743            Comedy  Film & Video      USD  2016-07-26  25000.0   \n",
       "\n",
       "                   launched  pledged       state  backers country  \\\n",
       "338862  2010-12-08 08:44:04      0.0      failed        0      US   \n",
       "277871  2016-01-28 04:56:18     51.0      failed        5      US   \n",
       "47000   2014-11-07 02:24:36     25.0      failed        1      US   \n",
       "111338  2012-03-15 01:16:10    585.0  successful       17      US   \n",
       "53743   2016-05-27 00:07:25     25.0      failed        1      US   \n",
       "\n",
       "        usd pledged  usd_pledged_real  usd_goal_real  \n",
       "338862          0.0               0.0        10526.0  \n",
       "277871         51.0              51.0        10000.0  \n",
       "47000          25.0              25.0        60000.0  \n",
       "111338        585.0             585.0          500.0  \n",
       "53743          25.0              25.0        25000.0  "
      ]
     },
     "execution_count": 5,
     "metadata": {},
     "output_type": "execute_result"
    }
   ],
   "source": [
    "kickstarters_2017.sample(5)"
   ]
  },
  {
   "cell_type": "code",
   "execution_count": 9,
   "id": "36b0e947-c5c9-4182-ac15-35ff0ad5ca2f",
   "metadata": {},
   "outputs": [
    {
     "name": "stdout",
     "output_type": "stream",
     "text": [
      "Total percentage of missing cells: 0.07%\n"
     ]
    }
   ],
   "source": [
    "# Find the percentage of total missing values\n",
    "missing_values_count = kickstarters_2017.isnull().sum()\n",
    "total_missing_values = missing_values_count.sum()\n",
    "total_cells = np.product(kickstarters_2017.shape)\n",
    "\n",
    "percent_of_missing_values = (total_missing_values / total_cells) * 100\n",
    "print(f'Total percentage of missing cells: {percent_of_missing_values:.2f}%')"
   ]
  },
  {
   "cell_type": "code",
   "execution_count": 25,
   "id": "fdfb904b-d83d-4038-9896-e0128c8c58c6",
   "metadata": {},
   "outputs": [
    {
     "data": {
      "image/png": "[encoded data removed]",
      "text/plain": [
       "<Figure size 1200x500 with 2 Axes>"
      ]
     },
     "metadata": {},
     "output_type": "display_data"
    }
   ],
   "source": [
    "#Scale the goal feature then plot\n",
    "usd_goal = kickstarters_2017.usd_goal_real\n",
    "scaled_data = minmax_scaling(usd_goal.values, columns=[0])\n",
    "\n",
    "fig, ax = plt.subplots(1, 2, figsize=(12, 5))\n",
    "ax[0].hist(usd_goal, bins=50)\n",
    "ax[0].set_title(\"Original Data\")\n",
    "ax[1].hist(scaled_data[:, 0], bins=50)\n",
    "ax[1].set_title(\"Scaled data\")\n",
    "plt.tight_layout()\n",
    "plt.show()\n"
   ]
  },
  {
   "cell_type": "code",
   "execution_count": 27,
   "id": "8ecc76a4-40ce-4060-b0c4-ea5e28155a6e",
   "metadata": {},
   "outputs": [
    {
     "data": {
      "image/png": "[encoded data removed]",
      "text/plain": [
       "<Figure size 1200x500 with 2 Axes>"
      ]
     },
     "metadata": {},
     "output_type": "display_data"
    }
   ],
   "source": [
    "#Scale the goal feature then plot\n",
    "goal = kickstarters_2017.goal\n",
    "scaled_data = minmax_scaling(goal.values, columns=[0])\n",
    "\n",
    "fig, ax = plt.subplots(1, 2, figsize=(12, 5))\n",
    "ax[0].hist(goal, bins=50)\n",
    "ax[0].set_title(\"Original Data\")\n",
    "ax[1].hist(scaled_data[:, 0], bins=50)\n",
    "ax[1].set_title(\"Scaled data\")\n",
    "plt.tight_layout()\n",
    "plt.show()"
   ]
  },
  {
   "cell_type": "code",
   "execution_count": 33,
   "id": "ff26880d-a849-4e40-8934-fc157ea39ba5",
   "metadata": {},
   "outputs": [
    {
     "name": "stderr",
     "output_type": "stream",
     "text": [
      "C:\\Users\\angel\\AppData\\Local\\Temp\\ipykernel_28312\\392060993.py:12: UserWarning: \n",
      "\n",
      "`distplot` is a deprecated function and will be removed in seaborn v0.14.0.\n",
      "\n",
      "Please adapt your code to use either `displot` (a figure-level function with\n",
      "similar flexibility) or `histplot` (an axes-level function for histograms).\n",
      "\n",
      "For a guide to updating your code to use the new functions, please see\n",
      "https://gist.github.com/mwaskom/de44147ed2974457ad6372750bbe5751\n",
      "\n",
      "  sb.distplot(positive_pledges, ax=ax[0])\n",
      "C:\\Users\\angel\\AppData\\Local\\Temp\\ipykernel_28312\\392060993.py:14: UserWarning: \n",
      "\n",
      "`distplot` is a deprecated function and will be removed in seaborn v0.14.0.\n",
      "\n",
      "Please adapt your code to use either `displot` (a figure-level function with\n",
      "similar flexibility) or `histplot` (an axes-level function for histograms).\n",
      "\n",
      "For a guide to updating your code to use the new functions, please see\n",
      "https://gist.github.com/mwaskom/de44147ed2974457ad6372750bbe5751\n",
      "\n",
      "  sb.distplot(normalized_pledges, ax=ax[1])\n"
     ]
    },
    {
     "data": {
      "text/plain": [
       "Text(0.5, 1.0, 'Normalized data')"
      ]
     },
     "execution_count": 33,
     "metadata": {},
     "output_type": "execute_result"
    },
    {
     "data": {
      "image/png": "[encoded data removed]",
      "text/plain": [
       "<Figure size 640x480 with 2 Axes>"
      ]
     },
     "metadata": {},
     "output_type": "display_data"
    }
   ],
   "source": [
    "# get the index of all positive pledges (Box-Cox only takes postive values)\n",
    "index_of_positive_pledges = kickstarters_2017.usd_pledged_real > 0\n",
    "\n",
    "# get only positive pledges (using their indexes)\n",
    "positive_pledges = kickstarters_2017.usd_pledged_real.loc[index_of_positive_pledges]\n",
    "\n",
    "# normalize the pledges (w/ Box-Cox)\n",
    "normalized_pledges = stats.boxcox(positive_pledges)[0]\n",
    "\n",
    "# plot both together to compare\n",
    "fig, ax=plt.subplots(1,2)\n",
    "sb.distplot(positive_pledges, ax=ax[0])\n",
    "ax[0].set_title(\"Original Data\")\n",
    "sb.distplot(normalized_pledges, ax=ax[1])\n",
    "ax[1].set_title(\"Normalized data\")"
   ]
  },
  {
   "cell_type": "code",
   "execution_count": null,
   "id": "b2b1a046-74a7-4c54-8790-b2be7aa07a3a",
   "metadata": {},
   "outputs": [],
   "source": []
  },
  {
   "cell_type": "code",
   "execution_count": null,
   "id": "2ed9e998-eab1-42e0-b5ff-bb780cf67f38",
   "metadata": {},
   "outputs": [],
   "source": []
  },
  {
   "cell_type": "markdown",
   "id": "2f39c2ea-88e5-4794-aa7d-1f31b20ee8cc",
   "metadata": {
    "jp-MarkdownHeadingCollapsed": true
   },
   "source": [
    "# Parsing Dates"
   ]
  },
  {
   "cell_type": "code",
   "execution_count": 52,
   "id": "bf7b394d-13a1-40f0-ba23-ffa9b5ee19cf",
   "metadata": {},
   "outputs": [],
   "source": [
    "import pandas as pd\n",
    "import numpy as np\n",
    "import seaborn as sb\n",
    "import datetime"
   ]
  },
  {
   "cell_type": "code",
   "execution_count": 60,
   "id": "8dfb1622-a38a-4ad0-90ad-2ee4116d5faa",
   "metadata": {},
   "outputs": [],
   "source": [
    "# read in our data\n",
    "earthquakes = pd.read_csv(\"input/earthquake-database/database.csv\")\n",
    "landslides = pd.read_csv(\"input/landslide-events/catalog.csv\")\n",
    "volcanos = pd.read_csv(\"input/volcanic-eruptions/database.csv\")\n",
    "\n",
    "np.random.seed(0)"
   ]
  },
  {
   "cell_type": "code",
   "execution_count": 68,
   "id": "9fe6a086-3fd9-4889-b651-3fab6d6388f9",
   "metadata": {},
   "outputs": [
    {
     "data": {
      "text/plain": [
       "0     3/2/07\n",
       "1    3/22/07\n",
       "2     4/6/07\n",
       "3    4/14/07\n",
       "4    4/15/07\n",
       "Name: date, dtype: object"
      ]
     },
     "execution_count": 68,
     "metadata": {},
     "output_type": "execute_result"
    }
   ],
   "source": [
    "landslides['date'].head()"
   ]
  },
  {
   "cell_type": "code",
   "execution_count": 72,
   "id": "79b1ef67-4250-4ce3-9dd3-1ebf2950719d",
   "metadata": {},
   "outputs": [
    {
     "data": {
      "text/plain": [
       "dtype('O')"
      ]
     },
     "execution_count": 72,
     "metadata": {},
     "output_type": "execute_result"
    }
   ],
   "source": [
    "landslides['date'].dtype"
   ]
  },
  {
   "cell_type": "code",
   "execution_count": 132,
   "id": "e46fe1ab-53e5-42c9-bcc9-fd2ef62f63f3",
   "metadata": {},
   "outputs": [
    {
     "data": {
      "text/html": [
       "<div>\n",
       "<style scoped>\n",
       "    .dataframe tbody tr th:only-of-type {\n",
       "        vertical-align: middle;\n",
       "    }\n",
       "\n",
       "    .dataframe tbody tr th {\n",
       "        vertical-align: top;\n",
       "    }\n",
       "\n",
       "    .dataframe thead th {\n",
       "        text-align: right;\n",
       "    }\n",
       "</style>\n",
       "<table border=\"1\" class=\"dataframe\">\n",
       "  <thead>\n",
       "    <tr style=\"text-align: right;\">\n",
       "      <th></th>\n",
       "      <th>Date</th>\n",
       "      <th>Time</th>\n",
       "      <th>Latitude</th>\n",
       "      <th>Longitude</th>\n",
       "      <th>Type</th>\n",
       "      <th>Depth</th>\n",
       "      <th>Depth Error</th>\n",
       "      <th>Depth Seismic Stations</th>\n",
       "      <th>Magnitude</th>\n",
       "      <th>Magnitude Type</th>\n",
       "      <th>...</th>\n",
       "      <th>Azimuthal Gap</th>\n",
       "      <th>Horizontal Distance</th>\n",
       "      <th>Horizontal Error</th>\n",
       "      <th>Root Mean Square</th>\n",
       "      <th>ID</th>\n",
       "      <th>Source</th>\n",
       "      <th>Location Source</th>\n",
       "      <th>Magnitude Source</th>\n",
       "      <th>Status</th>\n",
       "      <th>date_parsed</th>\n",
       "    </tr>\n",
       "  </thead>\n",
       "  <tbody>\n",
       "    <tr>\n",
       "      <th>0</th>\n",
       "      <td>01/02/1965</td>\n",
       "      <td>13:44:18</td>\n",
       "      <td>19.246</td>\n",
       "      <td>145.616</td>\n",
       "      <td>Earthquake</td>\n",
       "      <td>131.6</td>\n",
       "      <td>NaN</td>\n",
       "      <td>NaN</td>\n",
       "      <td>6.0</td>\n",
       "      <td>MW</td>\n",
       "      <td>...</td>\n",
       "      <td>NaN</td>\n",
       "      <td>NaN</td>\n",
       "      <td>NaN</td>\n",
       "      <td>NaN</td>\n",
       "      <td>ISCGEM860706</td>\n",
       "      <td>ISCGEM</td>\n",
       "      <td>ISCGEM</td>\n",
       "      <td>ISCGEM</td>\n",
       "      <td>Automatic</td>\n",
       "      <td>1965-01-02 00:00:00+00:00</td>\n",
       "    </tr>\n",
       "    <tr>\n",
       "      <th>1</th>\n",
       "      <td>01/04/1965</td>\n",
       "      <td>11:29:49</td>\n",
       "      <td>1.863</td>\n",
       "      <td>127.352</td>\n",
       "      <td>Earthquake</td>\n",
       "      <td>80.0</td>\n",
       "      <td>NaN</td>\n",
       "      <td>NaN</td>\n",
       "      <td>5.8</td>\n",
       "      <td>MW</td>\n",
       "      <td>...</td>\n",
       "      <td>NaN</td>\n",
       "      <td>NaN</td>\n",
       "      <td>NaN</td>\n",
       "      <td>NaN</td>\n",
       "      <td>ISCGEM860737</td>\n",
       "      <td>ISCGEM</td>\n",
       "      <td>ISCGEM</td>\n",
       "      <td>ISCGEM</td>\n",
       "      <td>Automatic</td>\n",
       "      <td>1965-01-04 00:00:00+00:00</td>\n",
       "    </tr>\n",
       "    <tr>\n",
       "      <th>2</th>\n",
       "      <td>01/05/1965</td>\n",
       "      <td>18:05:58</td>\n",
       "      <td>-20.579</td>\n",
       "      <td>-173.972</td>\n",
       "      <td>Earthquake</td>\n",
       "      <td>20.0</td>\n",
       "      <td>NaN</td>\n",
       "      <td>NaN</td>\n",
       "      <td>6.2</td>\n",
       "      <td>MW</td>\n",
       "      <td>...</td>\n",
       "      <td>NaN</td>\n",
       "      <td>NaN</td>\n",
       "      <td>NaN</td>\n",
       "      <td>NaN</td>\n",
       "      <td>ISCGEM860762</td>\n",
       "      <td>ISCGEM</td>\n",
       "      <td>ISCGEM</td>\n",
       "      <td>ISCGEM</td>\n",
       "      <td>Automatic</td>\n",
       "      <td>1965-01-05 00:00:00+00:00</td>\n",
       "    </tr>\n",
       "    <tr>\n",
       "      <th>3</th>\n",
       "      <td>01/08/1965</td>\n",
       "      <td>18:49:43</td>\n",
       "      <td>-59.076</td>\n",
       "      <td>-23.557</td>\n",
       "      <td>Earthquake</td>\n",
       "      <td>15.0</td>\n",
       "      <td>NaN</td>\n",
       "      <td>NaN</td>\n",
       "      <td>5.8</td>\n",
       "      <td>MW</td>\n",
       "      <td>...</td>\n",
       "      <td>NaN</td>\n",
       "      <td>NaN</td>\n",
       "      <td>NaN</td>\n",
       "      <td>NaN</td>\n",
       "      <td>ISCGEM860856</td>\n",
       "      <td>ISCGEM</td>\n",
       "      <td>ISCGEM</td>\n",
       "      <td>ISCGEM</td>\n",
       "      <td>Automatic</td>\n",
       "      <td>1965-01-08 00:00:00+00:00</td>\n",
       "    </tr>\n",
       "    <tr>\n",
       "      <th>4</th>\n",
       "      <td>01/09/1965</td>\n",
       "      <td>13:32:50</td>\n",
       "      <td>11.938</td>\n",
       "      <td>126.427</td>\n",
       "      <td>Earthquake</td>\n",
       "      <td>15.0</td>\n",
       "      <td>NaN</td>\n",
       "      <td>NaN</td>\n",
       "      <td>5.8</td>\n",
       "      <td>MW</td>\n",
       "      <td>...</td>\n",
       "      <td>NaN</td>\n",
       "      <td>NaN</td>\n",
       "      <td>NaN</td>\n",
       "      <td>NaN</td>\n",
       "      <td>ISCGEM860890</td>\n",
       "      <td>ISCGEM</td>\n",
       "      <td>ISCGEM</td>\n",
       "      <td>ISCGEM</td>\n",
       "      <td>Automatic</td>\n",
       "      <td>1965-01-09 00:00:00+00:00</td>\n",
       "    </tr>\n",
       "  </tbody>\n",
       "</table>\n",
       "<p>5 rows × 22 columns</p>\n",
       "</div>"
      ],
      "text/plain": [
       "         Date      Time  Latitude  Longitude        Type  Depth  Depth Error  \\\n",
       "0  01/02/1965  13:44:18    19.246    145.616  Earthquake  131.6          NaN   \n",
       "1  01/04/1965  11:29:49     1.863    127.352  Earthquake   80.0          NaN   \n",
       "2  01/05/1965  18:05:58   -20.579   -173.972  Earthquake   20.0          NaN   \n",
       "3  01/08/1965  18:49:43   -59.076    -23.557  Earthquake   15.0          NaN   \n",
       "4  01/09/1965  13:32:50    11.938    126.427  Earthquake   15.0          NaN   \n",
       "\n",
       "   Depth Seismic Stations  Magnitude Magnitude Type  ...  Azimuthal Gap  \\\n",
       "0                     NaN        6.0             MW  ...            NaN   \n",
       "1                     NaN        5.8             MW  ...            NaN   \n",
       "2                     NaN        6.2             MW  ...            NaN   \n",
       "3                     NaN        5.8             MW  ...            NaN   \n",
       "4                     NaN        5.8             MW  ...            NaN   \n",
       "\n",
       "   Horizontal Distance  Horizontal Error  Root Mean Square            ID  \\\n",
       "0                  NaN               NaN               NaN  ISCGEM860706   \n",
       "1                  NaN               NaN               NaN  ISCGEM860737   \n",
       "2                  NaN               NaN               NaN  ISCGEM860762   \n",
       "3                  NaN               NaN               NaN  ISCGEM860856   \n",
       "4                  NaN               NaN               NaN  ISCGEM860890   \n",
       "\n",
       "   Source Location Source Magnitude Source     Status  \\\n",
       "0  ISCGEM          ISCGEM           ISCGEM  Automatic   \n",
       "1  ISCGEM          ISCGEM           ISCGEM  Automatic   \n",
       "2  ISCGEM          ISCGEM           ISCGEM  Automatic   \n",
       "3  ISCGEM          ISCGEM           ISCGEM  Automatic   \n",
       "4  ISCGEM          ISCGEM           ISCGEM  Automatic   \n",
       "\n",
       "                date_parsed  \n",
       "0 1965-01-02 00:00:00+00:00  \n",
       "1 1965-01-04 00:00:00+00:00  \n",
       "2 1965-01-05 00:00:00+00:00  \n",
       "3 1965-01-08 00:00:00+00:00  \n",
       "4 1965-01-09 00:00:00+00:00  \n",
       "\n",
       "[5 rows x 22 columns]"
      ]
     },
     "execution_count": 132,
     "metadata": {},
     "output_type": "execute_result"
    }
   ],
   "source": [
    "earthquakes.head(5)"
   ]
  },
  {
   "cell_type": "code",
   "execution_count": 76,
   "id": "080b0763-ecac-427d-9d5b-fd6418e9234f",
   "metadata": {},
   "outputs": [
    {
     "data": {
      "text/plain": [
       "0    01/02/1965\n",
       "1    01/04/1965\n",
       "2    01/05/1965\n",
       "3    01/08/1965\n",
       "4    01/09/1965\n",
       "Name: Date, dtype: object"
      ]
     },
     "execution_count": 76,
     "metadata": {},
     "output_type": "execute_result"
    }
   ],
   "source": [
    "earthquakes['Date'].head()"
   ]
  },
  {
   "cell_type": "code",
   "execution_count": 88,
   "id": "2ab2a217-9435-4edd-a49e-898cf2275697",
   "metadata": {},
   "outputs": [
    {
     "data": {
      "text/plain": [
       "dtype('O')"
      ]
     },
     "execution_count": 88,
     "metadata": {},
     "output_type": "execute_result"
    }
   ],
   "source": [
    "earthquakes['Date'].dtype"
   ]
  },
  {
   "cell_type": "code",
   "execution_count": 134,
   "id": "2f491287-15f9-4645-b7bd-f8df4cc22c47",
   "metadata": {},
   "outputs": [],
   "source": [
    "# earthquakes['date_parsed'] = pd.to_datetime(earthquakes['Date'], format = \"%m/%d/%y\")\n",
    "# earthquakes['date_parsed'] = pd.to_datetime(earthquakes['date'], format = '%M/%D/%Y')\n",
    "earthquakes['date_parsed'] = pd.to_datetime(earthquakes['Date'], format='mixed', utc = True)\n"
   ]
  },
  {
   "cell_type": "code",
   "execution_count": 136,
   "id": "a174724f-843f-4823-81ca-8ce7d3badebf",
   "metadata": {},
   "outputs": [
    {
     "data": {
      "text/plain": [
       "0   1965-01-02 00:00:00+00:00\n",
       "1   1965-01-04 00:00:00+00:00\n",
       "2   1965-01-05 00:00:00+00:00\n",
       "3   1965-01-08 00:00:00+00:00\n",
       "4   1965-01-09 00:00:00+00:00\n",
       "Name: date_parsed, dtype: datetime64[ns, UTC]"
      ]
     },
     "execution_count": 136,
     "metadata": {},
     "output_type": "execute_result"
    }
   ],
   "source": [
    "earthquakes['date_parsed'].head()"
   ]
  },
  {
   "cell_type": "code",
   "execution_count": 86,
   "id": "2e601c67-a379-4016-a09a-ce865bddcd72",
   "metadata": {},
   "outputs": [
    {
     "data": {
      "text/html": [
       "<div>\n",
       "<style scoped>\n",
       "    .dataframe tbody tr th:only-of-type {\n",
       "        vertical-align: middle;\n",
       "    }\n",
       "\n",
       "    .dataframe tbody tr th {\n",
       "        vertical-align: top;\n",
       "    }\n",
       "\n",
       "    .dataframe thead th {\n",
       "        text-align: right;\n",
       "    }\n",
       "</style>\n",
       "<table border=\"1\" class=\"dataframe\">\n",
       "  <thead>\n",
       "    <tr style=\"text-align: right;\">\n",
       "      <th></th>\n",
       "      <th>id</th>\n",
       "      <th>date</th>\n",
       "      <th>time</th>\n",
       "      <th>continent_code</th>\n",
       "      <th>country_name</th>\n",
       "      <th>country_code</th>\n",
       "      <th>state/province</th>\n",
       "      <th>population</th>\n",
       "      <th>city/town</th>\n",
       "      <th>distance</th>\n",
       "      <th>...</th>\n",
       "      <th>hazard_type</th>\n",
       "      <th>landslide_type</th>\n",
       "      <th>landslide_size</th>\n",
       "      <th>trigger</th>\n",
       "      <th>storm_name</th>\n",
       "      <th>injuries</th>\n",
       "      <th>fatalities</th>\n",
       "      <th>source_name</th>\n",
       "      <th>source_link</th>\n",
       "      <th>date_parsed</th>\n",
       "    </tr>\n",
       "  </thead>\n",
       "  <tbody>\n",
       "    <tr>\n",
       "      <th>0</th>\n",
       "      <td>34</td>\n",
       "      <td>3/2/07</td>\n",
       "      <td>Night</td>\n",
       "      <td>NaN</td>\n",
       "      <td>United States</td>\n",
       "      <td>US</td>\n",
       "      <td>Virginia</td>\n",
       "      <td>16000</td>\n",
       "      <td>Cherry Hill</td>\n",
       "      <td>3.40765</td>\n",
       "      <td>...</td>\n",
       "      <td>Landslide</td>\n",
       "      <td>Landslide</td>\n",
       "      <td>Small</td>\n",
       "      <td>Rain</td>\n",
       "      <td>NaN</td>\n",
       "      <td>NaN</td>\n",
       "      <td>NaN</td>\n",
       "      <td>NBC 4 news</td>\n",
       "      <td>http://www.nbc4.com/news/11186871/detail.html</td>\n",
       "      <td>2007-03-02</td>\n",
       "    </tr>\n",
       "    <tr>\n",
       "      <th>1</th>\n",
       "      <td>42</td>\n",
       "      <td>3/22/07</td>\n",
       "      <td>NaN</td>\n",
       "      <td>NaN</td>\n",
       "      <td>United States</td>\n",
       "      <td>US</td>\n",
       "      <td>Ohio</td>\n",
       "      <td>17288</td>\n",
       "      <td>New Philadelphia</td>\n",
       "      <td>3.33522</td>\n",
       "      <td>...</td>\n",
       "      <td>Landslide</td>\n",
       "      <td>Landslide</td>\n",
       "      <td>Small</td>\n",
       "      <td>Rain</td>\n",
       "      <td>NaN</td>\n",
       "      <td>NaN</td>\n",
       "      <td>NaN</td>\n",
       "      <td>Canton Rep.com</td>\n",
       "      <td>http://www.cantonrep.com/index.php?ID=345054&amp;C...</td>\n",
       "      <td>2007-03-22</td>\n",
       "    </tr>\n",
       "    <tr>\n",
       "      <th>2</th>\n",
       "      <td>56</td>\n",
       "      <td>4/6/07</td>\n",
       "      <td>NaN</td>\n",
       "      <td>NaN</td>\n",
       "      <td>United States</td>\n",
       "      <td>US</td>\n",
       "      <td>Pennsylvania</td>\n",
       "      <td>15930</td>\n",
       "      <td>Wilkinsburg</td>\n",
       "      <td>2.91977</td>\n",
       "      <td>...</td>\n",
       "      <td>Landslide</td>\n",
       "      <td>Landslide</td>\n",
       "      <td>Small</td>\n",
       "      <td>Rain</td>\n",
       "      <td>NaN</td>\n",
       "      <td>NaN</td>\n",
       "      <td>NaN</td>\n",
       "      <td>The Pittsburgh Channel.com</td>\n",
       "      <td>https://web.archive.org/web/20080423132842/htt...</td>\n",
       "      <td>2007-04-06</td>\n",
       "    </tr>\n",
       "    <tr>\n",
       "      <th>3</th>\n",
       "      <td>59</td>\n",
       "      <td>4/14/07</td>\n",
       "      <td>NaN</td>\n",
       "      <td>NaN</td>\n",
       "      <td>Canada</td>\n",
       "      <td>CA</td>\n",
       "      <td>Quebec</td>\n",
       "      <td>42786</td>\n",
       "      <td>Châteauguay</td>\n",
       "      <td>2.98682</td>\n",
       "      <td>...</td>\n",
       "      <td>Landslide</td>\n",
       "      <td>Riverbank collapse</td>\n",
       "      <td>Small</td>\n",
       "      <td>Rain</td>\n",
       "      <td>NaN</td>\n",
       "      <td>NaN</td>\n",
       "      <td>NaN</td>\n",
       "      <td>Le Soleil</td>\n",
       "      <td>http://www.hebdos.net/lsc/edition162007/articl...</td>\n",
       "      <td>2007-04-14</td>\n",
       "    </tr>\n",
       "    <tr>\n",
       "      <th>4</th>\n",
       "      <td>61</td>\n",
       "      <td>4/15/07</td>\n",
       "      <td>NaN</td>\n",
       "      <td>NaN</td>\n",
       "      <td>United States</td>\n",
       "      <td>US</td>\n",
       "      <td>Kentucky</td>\n",
       "      <td>6903</td>\n",
       "      <td>Pikeville</td>\n",
       "      <td>5.66542</td>\n",
       "      <td>...</td>\n",
       "      <td>Landslide</td>\n",
       "      <td>Landslide</td>\n",
       "      <td>Small</td>\n",
       "      <td>Downpour</td>\n",
       "      <td>NaN</td>\n",
       "      <td>NaN</td>\n",
       "      <td>0.0</td>\n",
       "      <td>Matthew Crawford (KGS)</td>\n",
       "      <td>NaN</td>\n",
       "      <td>2007-04-15</td>\n",
       "    </tr>\n",
       "  </tbody>\n",
       "</table>\n",
       "<p>5 rows × 24 columns</p>\n",
       "</div>"
      ],
      "text/plain": [
       "   id     date   time continent_code   country_name country_code  \\\n",
       "0  34   3/2/07  Night            NaN  United States           US   \n",
       "1  42  3/22/07    NaN            NaN  United States           US   \n",
       "2  56   4/6/07    NaN            NaN  United States           US   \n",
       "3  59  4/14/07    NaN            NaN         Canada           CA   \n",
       "4  61  4/15/07    NaN            NaN  United States           US   \n",
       "\n",
       "  state/province  population         city/town  distance  ... hazard_type  \\\n",
       "0       Virginia       16000       Cherry Hill   3.40765  ...   Landslide   \n",
       "1           Ohio       17288  New Philadelphia   3.33522  ...   Landslide   \n",
       "2   Pennsylvania       15930       Wilkinsburg   2.91977  ...   Landslide   \n",
       "3         Quebec       42786       Châteauguay   2.98682  ...   Landslide   \n",
       "4       Kentucky        6903         Pikeville   5.66542  ...   Landslide   \n",
       "\n",
       "       landslide_type  landslide_size   trigger storm_name injuries  \\\n",
       "0           Landslide           Small      Rain        NaN      NaN   \n",
       "1           Landslide           Small      Rain        NaN      NaN   \n",
       "2           Landslide           Small      Rain        NaN      NaN   \n",
       "3  Riverbank collapse           Small      Rain        NaN      NaN   \n",
       "4           Landslide           Small  Downpour        NaN      NaN   \n",
       "\n",
       "  fatalities                 source_name  \\\n",
       "0        NaN                  NBC 4 news   \n",
       "1        NaN              Canton Rep.com   \n",
       "2        NaN  The Pittsburgh Channel.com   \n",
       "3        NaN                   Le Soleil   \n",
       "4        0.0      Matthew Crawford (KGS)   \n",
       "\n",
       "                                         source_link  date_parsed  \n",
       "0      http://www.nbc4.com/news/11186871/detail.html   2007-03-02  \n",
       "1  http://www.cantonrep.com/index.php?ID=345054&C...   2007-03-22  \n",
       "2  https://web.archive.org/web/20080423132842/htt...   2007-04-06  \n",
       "3  http://www.hebdos.net/lsc/edition162007/articl...   2007-04-14  \n",
       "4                                                NaN   2007-04-15  \n",
       "\n",
       "[5 rows x 24 columns]"
      ]
     },
     "execution_count": 86,
     "metadata": {},
     "output_type": "execute_result"
    }
   ],
   "source": [
    "landslides.head()"
   ]
  },
  {
   "cell_type": "code",
   "execution_count": 82,
   "id": "fe211c0a-f71c-4a15-b9dc-59d11503ea1a",
   "metadata": {},
   "outputs": [],
   "source": [
    "landslides['date_parsed'] = pd.to_datetime(landslides['date'], format = '%m/%d/%y')"
   ]
  },
  {
   "cell_type": "code",
   "execution_count": 84,
   "id": "0cf010c7-8c99-4432-a7d0-886059c5e293",
   "metadata": {},
   "outputs": [
    {
     "data": {
      "text/plain": [
       "0   2007-03-02\n",
       "1   2007-03-22\n",
       "2   2007-04-06\n",
       "3   2007-04-14\n",
       "4   2007-04-15\n",
       "Name: date_parsed, dtype: datetime64[ns]"
      ]
     },
     "execution_count": 84,
     "metadata": {},
     "output_type": "execute_result"
    }
   ],
   "source": [
    "landslides['date_parsed'].head()"
   ]
  },
  {
   "cell_type": "code",
   "execution_count": 138,
   "id": "1dfe1f86-7b89-4d22-b233-8346c9ab96a7",
   "metadata": {},
   "outputs": [],
   "source": [
    "day_of_month_landslides = landslides['date_parsed'].dt.day"
   ]
  },
  {
   "cell_type": "code",
   "execution_count": 140,
   "id": "70c8a233-2d06-49ef-9a6e-7a137f6d7f22",
   "metadata": {},
   "outputs": [],
   "source": [
    "day_of_month_earthquakes = earthquakes['date_parsed'].dt.day"
   ]
  },
  {
   "cell_type": "code",
   "execution_count": 142,
   "id": "b23ecc0f-c4c3-4abc-9d38-8dfa0847bac0",
   "metadata": {},
   "outputs": [
    {
     "data": {
      "text/plain": [
       "0        2.0\n",
       "1       22.0\n",
       "2        6.0\n",
       "3       14.0\n",
       "4       15.0\n",
       "        ... \n",
       "1688     7.0\n",
       "1689    22.0\n",
       "1690    23.0\n",
       "1691    26.0\n",
       "1692     2.0\n",
       "Name: date_parsed, Length: 1693, dtype: float64"
      ]
     },
     "execution_count": 142,
     "metadata": {},
     "output_type": "execute_result"
    }
   ],
   "source": [
    "day_of_month_landslides"
   ]
  },
  {
   "cell_type": "code",
   "execution_count": 148,
   "id": "c6ab53bc-c3b3-41c7-97b4-9078710a520c",
   "metadata": {},
   "outputs": [
    {
     "data": {
      "text/plain": [
       "<Axes: xlabel='date_parsed', ylabel='Count'>"
      ]
     },
     "execution_count": 148,
     "metadata": {},
     "output_type": "execute_result"
    },
    {
     "data": {
      "image/png": "[encoded data removed]",
      "text/plain": [
       "<Figure size 640x480 with 1 Axes>"
      ]
     },
     "metadata": {},
     "output_type": "display_data"
    }
   ],
   "source": [
    "day_of_month_landslides = day_of_month_landslides.dropna()\n",
    "\n",
    "sb.histplot(day_of_month_landslides, kde = False, bins=31)"
   ]
  },
  {
   "cell_type": "code",
   "execution_count": 156,
   "id": "621c2983-1b55-4b58-b30b-5837cb871a87",
   "metadata": {},
   "outputs": [
    {
     "data": {
      "text/plain": [
       "<Axes: xlabel='date_parsed', ylabel='Count'>"
      ]
     },
     "execution_count": 156,
     "metadata": {},
     "output_type": "execute_result"
    },
    {
     "data": {
      "image/png": "[encoded data removed]",
      "text/plain": [
       "<Figure size 640x480 with 1 Axes>"
      ]
     },
     "metadata": {},
     "output_type": "display_data"
    }
   ],
   "source": [
    "day_of_month_earthquakes = day_of_month_earthquakes.dropna()\n",
    "\n",
    "sb.histplot(day_of_month_earthquakes, kde=False, bins = 31)"
   ]
  },
  {
   "cell_type": "markdown",
   "id": "e6839775-23e8-4089-b157-e04d30d02b00",
   "metadata": {
    "jp-MarkdownHeadingCollapsed": true
   },
   "source": [
    "# Character Encodings"
   ]
  },
  {
   "cell_type": "code",
   "execution_count": 159,
   "id": "d2686221-dc90-45f5-b0fb-65c4fecac269",
   "metadata": {},
   "outputs": [],
   "source": [
    "import pandas as pd\n",
    "import numpy as np\n",
    "\n",
    "import chardet\n",
    "\n",
    "np.random.seed(0)"
   ]
  },
  {
   "cell_type": "code",
   "execution_count": 161,
   "id": "4111415d-e74f-40c2-a256-016e497f63c6",
   "metadata": {},
   "outputs": [
    {
     "data": {
      "text/plain": [
       "str"
      ]
     },
     "execution_count": 161,
     "metadata": {},
     "output_type": "execute_result"
    }
   ],
   "source": [
    "# start with a string\n",
    "before = \"This is the euro symbol: €\"\n",
    "\n",
    "# check to see what datatype it is\n",
    "type(before)"
   ]
  },
  {
   "cell_type": "code",
   "execution_count": 163,
   "id": "3c3c0213-38b0-4b2c-ad39-1a5bf99e934b",
   "metadata": {},
   "outputs": [
    {
     "data": {
      "text/plain": [
       "bytes"
      ]
     },
     "execution_count": 163,
     "metadata": {},
     "output_type": "execute_result"
    }
   ],
   "source": [
    "# encode it to a different encoding, replacing characters that raise errors\n",
    "after = before.encode(\"utf-8\", errors = \"replace\")\n",
    "\n",
    "# check the type\n",
    "type(after)"
   ]
  },
  {
   "cell_type": "code",
   "execution_count": 165,
   "id": "6673073c-4963-4d84-9d87-0b40ac5b03aa",
   "metadata": {},
   "outputs": [
    {
     "data": {
      "text/plain": [
       "b'This is the euro symbol: \\xe2\\x82\\xac'"
      ]
     },
     "execution_count": 165,
     "metadata": {},
     "output_type": "execute_result"
    }
   ],
   "source": [
    "after"
   ]
  },
  {
   "cell_type": "code",
   "execution_count": 167,
   "id": "3bce008e-fb79-4927-9647-41adae371a29",
   "metadata": {},
   "outputs": [
    {
     "name": "stdout",
     "output_type": "stream",
     "text": [
      "This is the euro symbol: €\n"
     ]
    }
   ],
   "source": [
    "print(after.decode(\"utf-8\"))"
   ]
  },
  {
   "cell_type": "code",
   "execution_count": 169,
   "id": "0a2b9498-a3b1-4d87-87f0-d832764d2fb5",
   "metadata": {},
   "outputs": [
    {
     "name": "stdout",
     "output_type": "stream",
     "text": [
      "This is the euro symbol: ?\n"
     ]
    }
   ],
   "source": [
    "# start with a string\n",
    "before = \"This is the euro symbol: €\"\n",
    "\n",
    "# encode it to a different encoding, replacing characters that raise errors\n",
    "after = before.encode(\"ascii\", errors = \"replace\")\n",
    "\n",
    "# convert it back to utf-8\n",
    "print(after.decode(\"ascii\"))"
   ]
  },
  {
   "cell_type": "code",
   "execution_count": 173,
   "id": "d472abf6-e66f-4f80-895b-20ca31c1f9e1",
   "metadata": {},
   "outputs": [
    {
     "name": "stdout",
     "output_type": "stream",
     "text": [
      "This is the money symbol: $\n"
     ]
    }
   ],
   "source": [
    "before = \"This is the money symbol: $\"\n",
    "\n",
    "\n",
    "after = before.encode(\"ascii\")\n",
    "\n",
    "print(after.decode(\"ascii\"))"
   ]
  },
  {
   "cell_type": "code",
   "execution_count": 179,
   "id": "c262ab2c-8afb-4c48-93d8-47a9f684291a",
   "metadata": {},
   "outputs": [
    {
     "name": "stdout",
     "output_type": "stream",
     "text": [
      "This is a symbol: ??\n"
     ]
    }
   ],
   "source": [
    "before = \"This is a symbol: 你好\"\n",
    "\n",
    "after = before.encode(\"ascii\", errors = \"replace\")\n",
    "\n",
    "print(after.decode(\"ascii\"))"
   ]
  },
  {
   "cell_type": "code",
   "execution_count": 193,
   "id": "2c6f1348-0613-481c-9f55-11af067acaa7",
   "metadata": {},
   "outputs": [],
   "source": [
    "# save the kickstarters .csv file to utf-8 (python default)\n",
    "kickstarters_2017.to_csv(\"ks-projects-201801-utf8.csv\")"
   ]
  },
  {
   "cell_type": "code",
   "execution_count": null,
   "id": "1eccd45b-a4a4-4ab9-83c8-67a3ad79f633",
   "metadata": {},
   "outputs": [],
   "source": []
  },
  {
   "cell_type": "markdown",
   "id": "384168a6-2327-46ef-9708-6a8e730e6eab",
   "metadata": {
    "jp-MarkdownHeadingCollapsed": true
   },
   "source": [
    "# Inconsistent Data Entry"
   ]
  },
  {
   "cell_type": "code",
   "execution_count": 200,
   "id": "76a8d31d-11cd-40e3-8cc2-605a51b7a99b",
   "metadata": {},
   "outputs": [],
   "source": [
    "import pandas as pd\n",
    "import numpy as np\n",
    "\n",
    "!pip install fuzzywuzzy[speedup] --quiet\n",
    "import fuzzywuzzy\n",
    "from fuzzywuzzy import process\n",
    "import chardet\n",
    "\n",
    "np.random.seed(0)"
   ]
  },
  {
   "cell_type": "code",
   "execution_count": 204,
   "id": "bd7ce521-759e-441c-95c9-b2ab8a77d91f",
   "metadata": {},
   "outputs": [
    {
     "name": "stdout",
     "output_type": "stream",
     "text": [
      "{'encoding': 'Windows-1252', 'confidence': 0.73, 'language': ''}\n"
     ]
    }
   ],
   "source": [
    "with open(\"PakistanSuicideAttacks Ver 11 (30-November-2017).csv\", 'rb') as rawdata:\n",
    "    result = chardet.detect(rawdata.read(100000))\n",
    "\n",
    "print(result)"
   ]
  },
  {
   "cell_type": "code",
   "execution_count": 206,
   "id": "073869e1-85a5-4541-ad27-effe7c8e9c8d",
   "metadata": {},
   "outputs": [],
   "source": [
    "suicide_attacks = pd.read_csv('PakistanSuicideAttacks Ver 11 (30-November-2017).csv', encoding = 'Windows-1252')"
   ]
  },
  {
   "cell_type": "code",
   "execution_count": 208,
   "id": "ea60192e-e571-48ba-be18-1b33b432f9f7",
   "metadata": {},
   "outputs": [
    {
     "name": "stdout",
     "output_type": "stream",
     "text": [
      "<class 'pandas.core.frame.DataFrame'>\n",
      "RangeIndex: 496 entries, 0 to 495\n",
      "Data columns (total 26 columns):\n",
      " #   Column                   Non-Null Count  Dtype  \n",
      "---  ------                   --------------  -----  \n",
      " 0   S#                       496 non-null    int64  \n",
      " 1   Date                     496 non-null    object \n",
      " 2   Islamic Date             342 non-null    object \n",
      " 3   Blast Day Type           486 non-null    object \n",
      " 4   Holiday Type             72 non-null     object \n",
      " 5   Time                     285 non-null    object \n",
      " 6   City                     496 non-null    object \n",
      " 7   Latitude                 493 non-null    float64\n",
      " 8   Longitude                493 non-null    object \n",
      " 9   Province                 496 non-null    object \n",
      " 10  Location                 493 non-null    object \n",
      " 11  Location Category        461 non-null    object \n",
      " 12  Location Sensitivity     460 non-null    object \n",
      " 13  Open/Closed Space        461 non-null    object \n",
      " 14  Influencing Event/Event  191 non-null    object \n",
      " 15  Target Type              470 non-null    object \n",
      " 16  Targeted Sect if any     97 non-null     object \n",
      " 17  Killed Min               350 non-null    float64\n",
      " 18  Killed Max               480 non-null    float64\n",
      " 19  Injured Min              365 non-null    float64\n",
      " 20  Injured Max              464 non-null    object \n",
      " 21  No. of Suicide Blasts    414 non-null    float64\n",
      " 22  Explosive Weight (max)   172 non-null    object \n",
      " 23  Hospital Names           297 non-null    object \n",
      " 24  Temperature(C)           491 non-null    float64\n",
      " 25  Temperature(F)           489 non-null    float64\n",
      "dtypes: float64(7), int64(1), object(18)\n",
      "memory usage: 100.9+ KB\n"
     ]
    }
   ],
   "source": [
    "suicide_attacks.info()"
   ]
  },
  {
   "cell_type": "code",
   "execution_count": 212,
   "id": "e01784f4-371e-43f7-a5bc-4fca8ba0e5a7",
   "metadata": {},
   "outputs": [
    {
     "data": {
      "text/html": [
       "<div>\n",
       "<style scoped>\n",
       "    .dataframe tbody tr th:only-of-type {\n",
       "        vertical-align: middle;\n",
       "    }\n",
       "\n",
       "    .dataframe tbody tr th {\n",
       "        vertical-align: top;\n",
       "    }\n",
       "\n",
       "    .dataframe thead th {\n",
       "        text-align: right;\n",
       "    }\n",
       "</style>\n",
       "<table border=\"1\" class=\"dataframe\">\n",
       "  <thead>\n",
       "    <tr style=\"text-align: right;\">\n",
       "      <th></th>\n",
       "      <th>S#</th>\n",
       "      <th>Date</th>\n",
       "      <th>Islamic Date</th>\n",
       "      <th>Blast Day Type</th>\n",
       "      <th>Holiday Type</th>\n",
       "      <th>Time</th>\n",
       "      <th>City</th>\n",
       "      <th>Latitude</th>\n",
       "      <th>Longitude</th>\n",
       "      <th>Province</th>\n",
       "      <th>...</th>\n",
       "      <th>Targeted Sect if any</th>\n",
       "      <th>Killed Min</th>\n",
       "      <th>Killed Max</th>\n",
       "      <th>Injured Min</th>\n",
       "      <th>Injured Max</th>\n",
       "      <th>No. of Suicide Blasts</th>\n",
       "      <th>Explosive Weight (max)</th>\n",
       "      <th>Hospital Names</th>\n",
       "      <th>Temperature(C)</th>\n",
       "      <th>Temperature(F)</th>\n",
       "    </tr>\n",
       "  </thead>\n",
       "  <tbody>\n",
       "    <tr>\n",
       "      <th>0</th>\n",
       "      <td>1</td>\n",
       "      <td>Sunday-November 19-1995</td>\n",
       "      <td>25 Jumaada al-THaany 1416 A.H</td>\n",
       "      <td>Holiday</td>\n",
       "      <td>Weekend</td>\n",
       "      <td>NaN</td>\n",
       "      <td>Islamabad</td>\n",
       "      <td>33.7180</td>\n",
       "      <td>73.0718</td>\n",
       "      <td>Capital</td>\n",
       "      <td>...</td>\n",
       "      <td>NaN</td>\n",
       "      <td>14.0</td>\n",
       "      <td>15.0</td>\n",
       "      <td>NaN</td>\n",
       "      <td>60</td>\n",
       "      <td>2.0</td>\n",
       "      <td>NaN</td>\n",
       "      <td>NaN</td>\n",
       "      <td>15.835</td>\n",
       "      <td>60.503</td>\n",
       "    </tr>\n",
       "    <tr>\n",
       "      <th>1</th>\n",
       "      <td>2</td>\n",
       "      <td>Monday-November 6-2000</td>\n",
       "      <td>10 SHa`baan 1421 A.H</td>\n",
       "      <td>Working Day</td>\n",
       "      <td>NaN</td>\n",
       "      <td>NaN</td>\n",
       "      <td>Karachi</td>\n",
       "      <td>24.9918</td>\n",
       "      <td>66.9911</td>\n",
       "      <td>Sindh</td>\n",
       "      <td>...</td>\n",
       "      <td>NaN</td>\n",
       "      <td>NaN</td>\n",
       "      <td>3.0</td>\n",
       "      <td>NaN</td>\n",
       "      <td>3</td>\n",
       "      <td>1.0</td>\n",
       "      <td>NaN</td>\n",
       "      <td>NaN</td>\n",
       "      <td>23.770</td>\n",
       "      <td>74.786</td>\n",
       "    </tr>\n",
       "    <tr>\n",
       "      <th>2</th>\n",
       "      <td>3</td>\n",
       "      <td>Wednesday-May 8-2002</td>\n",
       "      <td>25 safar 1423 A.H</td>\n",
       "      <td>Working Day</td>\n",
       "      <td>NaN</td>\n",
       "      <td>7:45 AM</td>\n",
       "      <td>Karachi</td>\n",
       "      <td>24.9918</td>\n",
       "      <td>66.9911</td>\n",
       "      <td>Sindh</td>\n",
       "      <td>...</td>\n",
       "      <td>Christian</td>\n",
       "      <td>13.0</td>\n",
       "      <td>15.0</td>\n",
       "      <td>20.0</td>\n",
       "      <td>40</td>\n",
       "      <td>1.0</td>\n",
       "      <td>2.5 Kg</td>\n",
       "      <td>1.Jinnah Postgraduate Medical Center 2. Civil ...</td>\n",
       "      <td>31.460</td>\n",
       "      <td>88.628</td>\n",
       "    </tr>\n",
       "    <tr>\n",
       "      <th>3</th>\n",
       "      <td>4</td>\n",
       "      <td>Friday-June 14-2002</td>\n",
       "      <td>3 Raby` al-THaany 1423 A.H</td>\n",
       "      <td>Working Day</td>\n",
       "      <td>NaN</td>\n",
       "      <td>11:10:00 AM</td>\n",
       "      <td>Karachi</td>\n",
       "      <td>24.9918</td>\n",
       "      <td>66.9911</td>\n",
       "      <td>Sindh</td>\n",
       "      <td>...</td>\n",
       "      <td>Christian</td>\n",
       "      <td>NaN</td>\n",
       "      <td>12.0</td>\n",
       "      <td>NaN</td>\n",
       "      <td>51</td>\n",
       "      <td>1.0</td>\n",
       "      <td>NaN</td>\n",
       "      <td>NaN</td>\n",
       "      <td>31.430</td>\n",
       "      <td>88.574</td>\n",
       "    </tr>\n",
       "    <tr>\n",
       "      <th>4</th>\n",
       "      <td>5</td>\n",
       "      <td>Friday-July 4-2003</td>\n",
       "      <td>4 Jumaada al-awal 1424 A.H</td>\n",
       "      <td>Working Day</td>\n",
       "      <td>NaN</td>\n",
       "      <td>NaN</td>\n",
       "      <td>Quetta</td>\n",
       "      <td>30.2095</td>\n",
       "      <td>67.0182</td>\n",
       "      <td>Baluchistan</td>\n",
       "      <td>...</td>\n",
       "      <td>Shiite</td>\n",
       "      <td>44.0</td>\n",
       "      <td>47.0</td>\n",
       "      <td>NaN</td>\n",
       "      <td>65</td>\n",
       "      <td>1.0</td>\n",
       "      <td>NaN</td>\n",
       "      <td>1.CMH Quetta \\n2.Civil Hospital 3. Boland Medi...</td>\n",
       "      <td>33.120</td>\n",
       "      <td>91.616</td>\n",
       "    </tr>\n",
       "  </tbody>\n",
       "</table>\n",
       "<p>5 rows × 26 columns</p>\n",
       "</div>"
      ],
      "text/plain": [
       "   S#                     Date                   Islamic Date Blast Day Type  \\\n",
       "0   1  Sunday-November 19-1995  25 Jumaada al-THaany 1416 A.H        Holiday   \n",
       "1   2   Monday-November 6-2000           10 SHa`baan 1421 A.H    Working Day   \n",
       "2   3     Wednesday-May 8-2002              25 safar 1423 A.H    Working Day   \n",
       "3   4      Friday-June 14-2002     3 Raby` al-THaany 1423 A.H    Working Day   \n",
       "4   5       Friday-July 4-2003     4 Jumaada al-awal 1424 A.H    Working Day   \n",
       "\n",
       "  Holiday Type         Time       City  Latitude Longitude     Province  ...  \\\n",
       "0      Weekend          NaN  Islamabad   33.7180   73.0718      Capital  ...   \n",
       "1          NaN          NaN    Karachi   24.9918   66.9911        Sindh  ...   \n",
       "2          NaN      7:45 AM   Karachi    24.9918   66.9911        Sindh  ...   \n",
       "3          NaN  11:10:00 AM    Karachi   24.9918   66.9911        Sindh  ...   \n",
       "4          NaN          NaN     Quetta   30.2095   67.0182  Baluchistan  ...   \n",
       "\n",
       "  Targeted Sect if any Killed Min Killed Max Injured Min Injured Max  \\\n",
       "0                  NaN       14.0       15.0         NaN          60   \n",
       "1                  NaN        NaN        3.0         NaN           3   \n",
       "2            Christian       13.0       15.0        20.0          40   \n",
       "3            Christian        NaN       12.0         NaN          51   \n",
       "4               Shiite       44.0       47.0         NaN          65   \n",
       "\n",
       "  No. of Suicide Blasts Explosive Weight (max)  \\\n",
       "0                   2.0                    NaN   \n",
       "1                   1.0                    NaN   \n",
       "2                   1.0                 2.5 Kg   \n",
       "3                   1.0                    NaN   \n",
       "4                   1.0                    NaN   \n",
       "\n",
       "                                      Hospital Names  Temperature(C)  \\\n",
       "0                                                NaN          15.835   \n",
       "1                                                NaN          23.770   \n",
       "2  1.Jinnah Postgraduate Medical Center 2. Civil ...          31.460   \n",
       "3                                                NaN          31.430   \n",
       "4  1.CMH Quetta \\n2.Civil Hospital 3. Boland Medi...          33.120   \n",
       "\n",
       "   Temperature(F)  \n",
       "0          60.503  \n",
       "1          74.786  \n",
       "2          88.628  \n",
       "3          88.574  \n",
       "4          91.616  \n",
       "\n",
       "[5 rows x 26 columns]"
      ]
     },
     "execution_count": 212,
     "metadata": {},
     "output_type": "execute_result"
    }
   ],
   "source": [
    "suicide_attacks.head()"
   ]
  },
  {
   "cell_type": "code",
   "execution_count": 220,
   "id": "14121b9b-1c94-4e29-935c-a8b279e4c3fe",
   "metadata": {},
   "outputs": [
    {
     "data": {
      "text/plain": [
       "array(['ATTOCK', 'Attock ', 'Bajaur Agency', 'Bannu', 'Bhakkar ', 'Buner',\n",
       "       'Chakwal ', 'Chaman', 'Charsadda', 'Charsadda ', 'D. I Khan',\n",
       "       'D.G Khan', 'D.G Khan ', 'D.I Khan', 'D.I Khan ', 'Dara Adam Khel',\n",
       "       'Dara Adam khel', 'Fateh Jang', 'Ghallanai, Mohmand Agency ',\n",
       "       'Gujrat', 'Hangu', 'Haripur', 'Hayatabad', 'Islamabad',\n",
       "       'Islamabad ', 'Jacobabad', 'KURRAM AGENCY', 'Karachi', 'Karachi ',\n",
       "       'Karak', 'Khanewal', 'Khuzdar', 'Khyber Agency', 'Khyber Agency ',\n",
       "       'Kohat', 'Kohat ', 'Kuram Agency ', 'Lahore', 'Lahore ',\n",
       "       'Lakki Marwat', 'Lakki marwat', 'Lasbela', 'Lower Dir', 'MULTAN',\n",
       "       'Malakand ', 'Mansehra', 'Mardan', 'Mohmand Agency',\n",
       "       'Mohmand Agency ', 'Mohmand agency', 'Mosal Kor, Mohmand Agency',\n",
       "       'Multan', 'Muzaffarabad', 'North Waziristan', 'North waziristan',\n",
       "       'Nowshehra', 'Orakzai Agency', 'Peshawar', 'Peshawar ', 'Pishin',\n",
       "       'Poonch', 'Quetta', 'Quetta ', 'Rawalpindi', 'Sargodha',\n",
       "       'Sehwan town', 'Shabqadar-Charsadda', 'Shangla ', 'Shikarpur',\n",
       "       'Sialkot', 'South Waziristan', 'South waziristan', 'Sudhanoti',\n",
       "       'Sukkur', 'Swabi ', 'Swat', 'Swat ', 'Taftan',\n",
       "       'Tangi, Charsadda District', 'Tank', 'Tank ', 'Taunsa',\n",
       "       'Tirah Valley', 'Totalai', 'Upper Dir', 'Wagah', 'Zhob', 'bannu',\n",
       "       'karachi', 'karachi ', 'lakki marwat', 'peshawar', 'swat'],\n",
       "      dtype=object)"
      ]
     },
     "execution_count": 220,
     "metadata": {},
     "output_type": "execute_result"
    }
   ],
   "source": [
    "# Check city column for any data entry inconsistencies\n",
    "cities = suicide_attacks['City'].unique()\n",
    "\n",
    "cities.sort()\n",
    "cities\n",
    "\n",
    "# Look for 'Lahore' vs. 'Lahore ' or 'Lakki Marwat' vs. 'Lakki marwat'"
   ]
  },
  {
   "cell_type": "code",
   "execution_count": 222,
   "id": "1cc5606b-78c5-4940-9d4d-6422e600d10a",
   "metadata": {},
   "outputs": [],
   "source": [
    "# convert to lower case\n",
    "suicide_attacks['City'] = suicide_attacks['City'].str.lower()\n",
    "# remove trailing white spaces\n",
    "suicide_attacks['City'] = suicide_attacks['City'].str.strip()"
   ]
  },
  {
   "cell_type": "code",
   "execution_count": 238,
   "id": "60b86ea4-78ea-4427-8548-328b7069b206",
   "metadata": {},
   "outputs": [
    {
     "data": {
      "text/plain": [
       "array(['AJK', 'Balochistan', 'Baluchistan', 'Capital', 'FATA', 'Fata',\n",
       "       'KPK', 'Punjab', 'Sindh'], dtype=object)"
      ]
     },
     "execution_count": 238,
     "metadata": {},
     "output_type": "execute_result"
    }
   ],
   "source": [
    "province = suicide_attacks['Province'].unique()\n",
    "province.sort()\n",
    "province\n",
    "\n",
    "# Look for 'FATA' vs 'Fata' or 'Balochistan' vs. 'Balochistan'"
   ]
  },
  {
   "cell_type": "code",
   "execution_count": 240,
   "id": "2a9ebb35-8138-4568-912a-0788ad1cfc05",
   "metadata": {},
   "outputs": [],
   "source": [
    "# # convert to lower case\n",
    "suicide_attacks['Province'] = suicide_attacks['Province'].str.lower()\n",
    "# remove trailing white spaces\n",
    "suicide_attacks['Province'] = suicide_attacks['Province'].str.strip()"
   ]
  },
  {
   "cell_type": "code",
   "execution_count": 246,
   "id": "0dbb9fdf-2aeb-4dda-b3cd-43b7f8b0a82d",
   "metadata": {},
   "outputs": [
    {
     "data": {
      "text/plain": [
       "array(['attock', 'bajaur agency', 'bannu', 'bhakkar', 'buner', 'chakwal',\n",
       "       'chaman', 'charsadda', 'd. i khan', 'd.g khan', 'd.i khan',\n",
       "       'dara adam khel', 'fateh jang', 'ghallanai, mohmand agency',\n",
       "       'gujrat', 'hangu', 'haripur', 'hayatabad', 'islamabad',\n",
       "       'jacobabad', 'karachi', 'karak', 'khanewal', 'khuzdar',\n",
       "       'khyber agency', 'kohat', 'kuram agency', 'kurram agency',\n",
       "       'lahore', 'lakki marwat', 'lasbela', 'lower dir', 'malakand',\n",
       "       'mansehra', 'mardan', 'mohmand agency',\n",
       "       'mosal kor, mohmand agency', 'multan', 'muzaffarabad',\n",
       "       'north waziristan', 'nowshehra', 'orakzai agency', 'peshawar',\n",
       "       'pishin', 'poonch', 'quetta', 'rawalpindi', 'sargodha',\n",
       "       'sehwan town', 'shabqadar-charsadda', 'shangla', 'shikarpur',\n",
       "       'sialkot', 'south waziristan', 'sudhanoti', 'sukkur', 'swabi',\n",
       "       'swat', 'taftan', 'tangi, charsadda district', 'tank', 'taunsa',\n",
       "       'tirah valley', 'totalai', 'upper dir', 'wagah', 'zhob'],\n",
       "      dtype=object)"
      ]
     },
     "execution_count": 246,
     "metadata": {},
     "output_type": "execute_result"
    }
   ],
   "source": [
    "cities = suicide_attacks[\"City\"].unique()\n",
    "\n",
    "cities.sort()\n",
    "cities\n",
    "\n",
    "# now look for 'd. i khan' vs. 'd.i khan'"
   ]
  },
  {
   "cell_type": "code",
   "execution_count": 248,
   "id": "7694f1af-e97f-44ea-bb2c-d8d8f901ce55",
   "metadata": {},
   "outputs": [
    {
     "data": {
      "text/plain": [
       "[('d. i khan', 100),\n",
       " ('d.i khan', 100),\n",
       " ('d.g khan', 88),\n",
       " ('khanewal', 50),\n",
       " ('sudhanoti', 47),\n",
       " ('hangu', 46),\n",
       " ('kohat', 46),\n",
       " ('dara adam khel', 45),\n",
       " ('chaman', 43),\n",
       " ('mardan', 43)]"
      ]
     },
     "execution_count": 248,
     "metadata": {},
     "output_type": "execute_result"
    }
   ],
   "source": [
    "# get the top 10 closest matches to \"d.i khan\"\n",
    "matches = fuzzywuzzy.process.extract(\"d.i khan\", cities, limit=10, scorer=fuzzywuzzy.fuzz.token_sort_ratio)\n",
    "\n",
    "# take a look at them\n",
    "matches"
   ]
  },
  {
   "cell_type": "code",
   "execution_count": 258,
   "id": "2cf36d7e-f032-4c72-ac89-5211ff8ec03e",
   "metadata": {},
   "outputs": [],
   "source": [
    "# Write function to replace rows that match the provided string \n",
    "\n",
    "def replace_matches_in_column(df, column, string_to_match, min_ratio = 90):\n",
    "    # get all unique values \n",
    "    strings = df[column].unique()\n",
    "    # get the top 10 closes matches (like in above cell) which matches our input string\n",
    "    matches = fuzzywuzzy.process.extract(string_to_match, strings, limit = 10, scorer = fuzzywuzzy.fuzz.token_sort_ratio)\n",
    "    # only store matches where ratio is >= 90\n",
    "    close_matches = [matches[0] for matches in matches if matches[1] >= min_ratio]\n",
    "    # get all rows get all rows with the close matches in our df\n",
    "    rows_with_matches = df[column].isin(close_matches)\n",
    "    # now replace all rows with close matches with the input matches\n",
    "    df.loc[rows_with_matches, column] = string_to_match\n",
    "\n",
    "    print(\"All done\")"
   ]
  },
  {
   "cell_type": "code",
   "execution_count": 260,
   "id": "3ed1070c-fa3f-4533-ae43-bc597e77e0da",
   "metadata": {},
   "outputs": [
    {
     "name": "stdout",
     "output_type": "stream",
     "text": [
      "All done\n"
     ]
    }
   ],
   "source": [
    "replace_matches_in_column(df=suicide_attacks, column='City', string_to_match=\"d.i khan\")\n"
   ]
  },
  {
   "cell_type": "code",
   "execution_count": 264,
   "id": "04349696-c0af-460b-ba63-271359666969",
   "metadata": {},
   "outputs": [
    {
     "data": {
      "text/plain": [
       "array(['attock', 'bajaur agency', 'bannu', 'bhakkar', 'buner', 'chakwal',\n",
       "       'chaman', 'charsadda', 'd.g khan', 'd.i khan', 'dara adam khel',\n",
       "       'fateh jang', 'ghallanai, mohmand agency', 'gujrat', 'hangu',\n",
       "       'haripur', 'hayatabad', 'islamabad', 'jacobabad', 'karachi',\n",
       "       'karak', 'khanewal', 'khuzdar', 'khyber agency', 'kohat',\n",
       "       'kuram agency', 'kurram agency', 'lahore', 'lakki marwat',\n",
       "       'lasbela', 'lower dir', 'malakand', 'mansehra', 'mardan',\n",
       "       'mohmand agency', 'mosal kor, mohmand agency', 'multan',\n",
       "       'muzaffarabad', 'north waziristan', 'nowshehra', 'orakzai agency',\n",
       "       'peshawar', 'pishin', 'poonch', 'quetta', 'rawalpindi', 'sargodha',\n",
       "       'sehwan town', 'shabqadar-charsadda', 'shangla', 'shikarpur',\n",
       "       'sialkot', 'south waziristan', 'sudhanoti', 'sukkur', 'swabi',\n",
       "       'swat', 'taftan', 'tangi, charsadda district', 'tank', 'taunsa',\n",
       "       'tirah valley', 'totalai', 'upper dir', 'wagah', 'zhob'],\n",
       "      dtype=object)"
      ]
     },
     "execution_count": 264,
     "metadata": {},
     "output_type": "execute_result"
    }
   ],
   "source": [
    "cities = suicide_attacks['City'].unique()\n",
    "\n",
    "cities.sort()\n",
    "cities\n",
    "\n",
    "# now we search for d.i khan and we see that our function has removed the 'd. i khan' from our dataset"
   ]
  },
  {
   "cell_type": "code",
   "execution_count": null,
   "id": "e90a1bfe-1d31-44ef-a83d-26f615b945b5",
   "metadata": {},
   "outputs": [],
   "source": []
  }
 ],
 "metadata": {
  "kernelspec": {
   "display_name": "Python [conda env:base] *",
   "language": "python",
   "name": "conda-base-py"
  },
  "language_info": {
   "codemirror_mode": {
    "name": "ipython",
    "version": 3
   },
   "file_extension": ".py",
   "mimetype": "text/x-python",
   "name": "python",
   "nbconvert_exporter": "python",
   "pygments_lexer": "ipython3",
   "version": "3.12.7"
  }
 },
 "nbformat": 4,
 "nbformat_minor": 5
}
